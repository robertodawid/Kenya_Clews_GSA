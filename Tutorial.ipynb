{
 "cells": [
  {
   "cell_type": "code",
   "execution_count": 1,
   "metadata": {
    "slideshow": {
     "slide_type": "skip"
    }
   },
   "outputs": [],
   "source": [
    "import pandas as pd\n",
    "from pathlib import Path\n",
    "import numpy as np\n",
    "import os\n",
    "import subprocess\n",
    "import sys\n",
    "import matplotlib.pyplot as plt\n",
    "from IPython import display"
   ]
  },
  {
   "cell_type": "markdown",
   "metadata": {
    "slideshow": {
     "slide_type": "skip"
    }
   },
   "source": [
    "To view this notebook as slides, run `jupyter nbconvert Tutorial.ipynb --to slides --post serve` on the command line\n",
    "\n",
    "Run this in Binder\n",
    "[![Binder](https://mybinder.org/badge_logo.svg)](https://mybinder.org/v2/gh/KTH-dESA/esom_gsa/envs?labpath=Tutorial.ipynb)"
   ]
  },
  {
   "cell_type": "markdown",
   "metadata": {
    "slideshow": {
     "slide_type": "slide"
    }
   },
   "source": [
    "# ECEMP Skills Workshop: Global Sensitivity Analysis\n",
    "\n",
    "- Will Usher, KTH Royal Institute of Technology\n",
    "- Trevor Barnes, Simon Fraser University"
   ]
  },
  {
   "cell_type": "markdown",
   "metadata": {
    "slideshow": {
     "slide_type": "subslide"
    }
   },
   "source": [
    "## Publication \n",
    "\n",
    "The work in this notebook is a summary of the following open-access paper:\n",
    "\n",
    "> Usher W, Barnes T, Moksnes N and Niet T. Global sensitivity analysis to enhance the transparency and rigour of energy system optimisation modelling [version 1; peer review: 1 approved, 2 approved with reservations]. Open Res Europe 2023, 3:30 (https://doi.org/10.12688/openreseurope.15461.1)"
   ]
  },
  {
   "cell_type": "markdown",
   "metadata": {
    "slideshow": {
     "slide_type": "slide"
    }
   },
   "source": [
    "# Introduction"
   ]
  },
  {
   "cell_type": "markdown",
   "metadata": {
    "slideshow": {
     "slide_type": "subslide"
    }
   },
   "source": [
    "## What is global sensitivity analysis?\n",
    "\n",
    "- Global sensitivity analysis is “*the study of how uncertainty in the output of a model...can be apportioned to different sources of uncertainty in the model input*”. \n",
    "- “Global” means that all parameters are moved over their input ranges at the same time.\n",
    "- By contrast, in one-at-a-time (OAT) sensitivity analysis, only one dimension of the model input space is explored while holding all other dimensions at their central value.\n",
    "- An excellent introduction to global sensitivity analysis can be found in Saltelli (2007)."
   ]
  },
  {
   "cell_type": "markdown",
   "metadata": {
    "slideshow": {
     "slide_type": "subslide"
    }
   },
   "source": [
    "## Why perform global sensitivity analysis?\n",
    "\n",
    "- Most energy system optimisation modelling studies use scenario analysis\n",
    "- Global sensitivity analysis can supplement and support scenario analysis\n",
    "  - identify key drivers of model results (factor prioritisation)\n",
    "  - identify unimportant parameters (factor fixing)\n",
    "  - identify interesting areas of the input space (factor mapping)"
   ]
  },
  {
   "cell_type": "markdown",
   "metadata": {
    "slideshow": {
     "slide_type": "subslide"
    }
   },
   "source": [
    "## Methods for conducting global sensitivity analysis\n",
    "\n",
    "Variance-based approaches compute the proportion of the variance in the output that is explained by variation in the input. \n",
    "\n",
    "- Computation of a first-order (only the direct effect) and total-order (direct and interaction effects) index for each input recovers all interaction and non-linear effects of a model. \n",
    "- Variance-based approaches require a relatively large number $(500(k+2))$ of model runs.\n",
    "\n",
    "Elementary effects test, or “Method of Morris” lowers computationally needs $(10(k+1))$ by computing an average of local derivatives over a discrete space of input parameters.\n",
    "\n",
    "- It provides an estimate for the total-order index produced by more advanced variance-based approaches \n",
    "- can be applied to groups of inputs to increase coverage and reduce computational demands."
   ]
  },
  {
   "cell_type": "markdown",
   "metadata": {
    "slideshow": {
     "slide_type": "subslide"
    }
   },
   "source": [
    "## Tools for performing global sensitivity analyses\n",
    "\n",
    "The Python library [SALib](http://salib.github.io/SALib/) provides implementations of powerful global sensitivity analysis approaches.\n",
    "\n",
    "\n",
    "-   Sobol Sensitivity Analysis ([Sobol\n",
    "    2001](http://www.sciencedirect.com/science/article/pii/S0378475400002706), [Saltelli\n",
    "    2002](http://www.sciencedirect.com/science/article/pii/S0010465502002801), [Saltelli et al.\n",
    "    2010](http://www.sciencedirect.com/science/article/pii/S0010465509003087))\n",
    "\n",
    "-   Method of Morris, including groups and optimal trajectories ([Morris\n",
    "    1991](http://www.tandfonline.com/doi/abs/10.1080/00401706.1991.10484804), [Campolongo et al.\n",
    "    2007](http://www.sciencedirect.com/science/article/pii/S1364815206002805))\n",
    "\n",
    "-   Fourier Amplitude Sensitivity Test (FAST) ([Cukier et al.\n",
    "    1973](http://scitation.aip.org/content/aip/journal/jcp/59/8/10.1063/1.1680571), [Saltelli et al.\n",
    "    1999](http://amstat.tandfonline.com/doi/abs/10.1080/00401706.1999.10485594))\n",
    "\n",
    "-   Random Balance Designs - Fourier Amplitude Sensitivity Test\n",
    "    (RBD-FAST) ([Tarantola et al.\n",
    "    2006](https://hal.archives-ouvertes.fr/hal-01065897/file/Tarantola06RESS_HAL.pdf), [Elmar Plischke\n",
    "    2010](https://doi.org/10.1016/j.ress.2009.11.005), [Tissot et al.\n",
    "    2012](https://doi.org/10.1016/j.ress.2012.06.010))\n",
    "\n",
    "-   Delta Moment-Independent Measure ([Borgonovo\n",
    "    2007](http://www.sciencedirect.com/science/article/pii/S0951832006000883), [Plischke et al.\n",
    "    2013](http://www.sciencedirect.com/science/article/pii/S0377221712008995))\n",
    "\n",
    "-   Derivative-based Global Sensitivity Measure (DGSM) ([Sobol and\n",
    "    Kucherenko\n",
    "    2009](http://www.sciencedirect.com/science/article/pii/S0378475409000354))\n",
    "\n",
    "-   Fractional Factorial Sensitivity Analysis ([Saltelli et al.\n",
    "    2008](http://www.wiley.com/WileyCDA/WileyTitle/productCd-0470059974.html))\n",
    "\n",
    "-   High Dimensional Model Representation ([Li et al.\n",
    "    2010](https://pubs.acs.org/doi/pdf/10.1021/jp9096919))\n",
    "    \n",
    "   "
   ]
  },
  {
   "cell_type": "code",
   "execution_count": 2,
   "metadata": {
    "slideshow": {
     "slide_type": "skip"
    }
   },
   "outputs": [],
   "source": [
    "from SALib import ProblemSpec\n",
    "from SALib.test_functions import Ishigami"
   ]
  },
  {
   "cell_type": "markdown",
   "metadata": {
    "slideshow": {
     "slide_type": "subslide"
    }
   },
   "source": [
    "To use the SALib libary, you first define a `ProblemSpec` containing the names and bounds of your variables."
   ]
  },
  {
   "cell_type": "code",
   "execution_count": 3,
   "metadata": {
    "slideshow": {
     "slide_type": "fragment"
    }
   },
   "outputs": [],
   "source": [
    "# By convention, we assign to \"sp\" (for \"SALib Problem\")\n",
    "sp = ProblemSpec({\n",
    "  'names': ['x1', 'x2', 'x3'],    # Name of each parameter\n",
    "  'bounds': [[-np.pi, np.pi]]*3,  # bounds of each parameter\n",
    "  'outputs': ['Y']                # name of outputs in expected order\n",
    "})"
   ]
  },
  {
   "cell_type": "markdown",
   "metadata": {
    "slideshow": {
     "slide_type": "fragment"
    }
   },
   "source": [
    "Then you create a sample using the method of your choice."
   ]
  },
  {
   "cell_type": "code",
   "execution_count": 4,
   "metadata": {
    "slideshow": {
     "slide_type": "fragment"
    }
   },
   "outputs": [],
   "source": [
    "# Create the sample\n",
    "sp = sp.sample_saltelli(1024, calc_second_order=True)"
   ]
  },
  {
   "cell_type": "markdown",
   "metadata": {
    "slideshow": {
     "slide_type": "subslide"
    }
   },
   "source": [
    "You run your model many times, once for each row of the sample."
   ]
  },
  {
   "cell_type": "code",
   "execution_count": 5,
   "metadata": {
    "slideshow": {
     "slide_type": "fragment"
    }
   },
   "outputs": [],
   "source": [
    "# Run the model\n",
    "sp = sp.evaluate(Ishigami.evaluate)"
   ]
  },
  {
   "cell_type": "markdown",
   "metadata": {
    "slideshow": {
     "slide_type": "fragment"
    }
   },
   "source": [
    "Finally, you run the matching analysis method for each model output you wish to perform the global sensitivity analysis."
   ]
  },
  {
   "cell_type": "code",
   "execution_count": 6,
   "metadata": {
    "slideshow": {
     "slide_type": "fragment"
    }
   },
   "outputs": [],
   "source": [
    "# Run the analysis method\n",
    "sp = sp.analyze_sobol(print_to_console=False)"
   ]
  },
  {
   "cell_type": "code",
   "execution_count": 7,
   "metadata": {
    "slideshow": {
     "slide_type": "subslide"
    }
   },
   "outputs": [
    {
     "name": "stdout",
     "output_type": "stream",
     "text": [
      "Samples:\n",
      "\t3 parameters: ['x1', 'x2', 'x3']\n",
      "\t8192 evaluations\n",
      "Outputs:\n",
      "\t1 outputs: ['Y']\n",
      "\t8192 evaluations\n",
      "Analysis:\n",
      "          ST   ST_conf\n",
      "x1  0.555860  0.089585\n",
      "x2  0.441898  0.038814\n",
      "x3  0.244675  0.024909\n",
      "          S1   S1_conf\n",
      "x1  0.316832  0.066560\n",
      "x2  0.443763  0.050831\n",
      "x3  0.012203  0.056553\n",
      "                S2   S2_conf\n",
      "(x1, x2)  0.009254  0.096677\n",
      "(x1, x3)  0.238172  0.106488\n",
      "(x2, x3) -0.004888  0.060814\n",
      "\n"
     ]
    }
   ],
   "source": [
    "# Samples, model results and analyses can be extracted from the ProblemSpec\n",
    "print(sp)"
   ]
  },
  {
   "cell_type": "code",
   "execution_count": 8,
   "metadata": {
    "slideshow": {
     "slide_type": "subslide"
    }
   },
   "outputs": [
    {
     "data": {
      "text/plain": [
       "array([<Axes: >, <Axes: >, <Axes: >], dtype=object)"
      ]
     },
     "execution_count": 8,
     "metadata": {},
     "output_type": "execute_result"
    },
    {
     "data": {
      "image/png": "[encoded data removed]",
      "text/plain": [
       "<Figure size 640x480 with 3 Axes>"
      ]
     },
     "metadata": {},
     "output_type": "display_data"
    }
   ],
   "source": [
    "# Basic plotting functionality is also provided\n",
    "sp.plot()"
   ]
  },
  {
   "cell_type": "code",
   "execution_count": 9,
   "metadata": {
    "slideshow": {
     "slide_type": "skip"
    }
   },
   "outputs": [
    {
     "name": "stdout",
     "output_type": "stream",
     "text": [
      "Samples:\n",
      "\t3 parameters: ['x1', 'x2', 'x3']\n",
      "\t40 evaluations\n",
      "Outputs:\n",
      "\t1 outputs: ['Y']\n",
      "\t40 evaluations\n",
      "Analysis:\n",
      "           mu    mu_star     sigma  mu_star_conf\n",
      "x1  10.203573  10.203573  6.036911  2.984802e+00\n",
      "x2   0.000000   7.875000  8.300979  3.499135e-15\n",
      "x3  -1.249759   1.249759  3.952086  2.176870e+00\n",
      "\n"
     ]
    },
    {
     "data": {
      "text/plain": [
       "<Axes: >"
      ]
     },
     "execution_count": 9,
     "metadata": {},
     "output_type": "execute_result"
    },
    {
     "data": {
      "image/png": "[encoded data removed]",
      "text/plain": [
       "<Figure size 640x480 with 1 Axes>"
      ]
     },
     "metadata": {},
     "output_type": "display_data"
    }
   ],
   "source": [
    "from SALib import ProblemSpec\n",
    "from SALib.test_functions import Ishigami\n",
    "\n",
    "# By convention, we assign to \"sp\" (for \"SALib Problem\")\n",
    "sp = ProblemSpec({\n",
    "  'names': ['x1', 'x2', 'x3'],    # Name of each parameter\n",
    "  'bounds': [[-np.pi, np.pi]]*3,  # bounds of each parameter\n",
    "  'outputs': ['Y']                # name of outputs in expected order\n",
    "})\n",
    "\n",
    "# Create the sample\n",
    "sp.sample_morris(100, optimal_trajectories=10, local_optimization=True, num_levels=4)\n",
    "\n",
    "# Run the model\n",
    "sp.evaluate(Ishigami.evaluate)\n",
    "\n",
    "# Run the matching analysis method\n",
    "sp.analyze_morris(print_to_console=False)\n",
    "\n",
    "# Samples, model results and analyses can be extracted:\n",
    "print(sp)\n",
    "\n",
    "# Basic plotting functionality is also provided\n",
    "sp.plot()"
   ]
  },
  {
   "cell_type": "markdown",
   "metadata": {
    "slideshow": {
     "slide_type": "subslide"
    }
   },
   "source": [
    "# References\n",
    "\n",
    "Andrea Saltelli, Marco Ratto, Terry Andres, Francesca Campolongo, Jessica Cariboni, Debora Gatelli, Michaela Saisana, and Stefano Tarantola. Global Sensitivity Analysis. The Primer. 1st ed. John Wiley & Sons, Ltd, 2007. [doi:10.1002/9780470725184](https://doi.org/10.1002/9780470725184).\n",
    "\n",
    "Iwanaga, T., Usher, W., & Herman, J. (2022). Toward SALib 2.0: Advancing the accessibility and interpretability of global sensitivity analyses. Socio-Environmental Systems Modelling, 4, 18155. [doi:10.18174/sesmo.18155](https://doi.org/10.21105/joss.00097)\n",
    "\n",
    "Herman, J. and Usher, W. (2017) SALib: An open-source Python library for sensitivity analysis. Journal of Open Source Software, 2(9). [doi:10.21105/joss.00097](https://doi.org/10.21105/joss.00097)"
   ]
  },
  {
   "cell_type": "markdown",
   "metadata": {
    "slideshow": {
     "slide_type": "slide"
    }
   },
   "source": [
    "# Example One\n",
    "\n",
    "In this example, we will first show build a simple model and perform \n",
    "**LOCAL** sensitivity analysis"
   ]
  },
  {
   "cell_type": "markdown",
   "metadata": {
    "slideshow": {
     "slide_type": "subslide"
    }
   },
   "source": [
    "## Reference Energy System\n",
    "\n",
    "Consider the simple energy system optimization model below. It includes: \n",
    "\n",
    "- A mining technology to introduce uranium \n",
    "- A nuclear power generation technology\n",
    "- Uranium fuel\n",
    "- Electricity fuel\n",
    "\n",
    "![RES](./examples/figures/res.jpg)"
   ]
  },
  {
   "cell_type": "markdown",
   "metadata": {
    "slideshow": {
     "slide_type": "subslide"
    }
   },
   "source": [
    "## Input Data\n",
    "\n",
    "We will add data for: \n",
    "- Capital Costs\n",
    "- Fixed Costs\n",
    "- Variable Costs (including fuel costs)\n",
    "- Powerplant Efficiency \n",
    "- Powerplant Operational Life \n",
    "- Electricity Demand \n",
    "\n",
    "The model will be run given the assumptions: \n",
    "- Model horizon of 50 years \n",
    "- 8 equal time slices per year\n",
    "- Linearly increasing yearly demand"
   ]
  },
  {
   "cell_type": "markdown",
   "metadata": {
    "slideshow": {
     "slide_type": "skip"
    }
   },
   "source": [
    "### Helper Functions "
   ]
  },
  {
   "cell_type": "code",
   "execution_count": 10,
   "metadata": {
    "slideshow": {
     "slide_type": "skip"
    }
   },
   "outputs": [],
   "source": [
    "def make_set(data, save):\n",
    "    df = pd.DataFrame(data={\"VALUE\":data})\n",
    "    df.to_csv(save, index=False)"
   ]
  },
  {
   "cell_type": "code",
   "execution_count": 11,
   "metadata": {
    "slideshow": {
     "slide_type": "skip"
    }
   },
   "outputs": [],
   "source": [
    "def make_param(data, param_value, save=None):\n",
    "    df = pd.DataFrame(data=data)\n",
    "    for col in data.keys():\n",
    "        df = df.explode(column=col)\n",
    "    df = df.reset_index(drop=True)\n",
    "    df[\"VALUE\"] = param_value\n",
    "    if save:\n",
    "        df.to_csv(save, index=False)\n",
    "    return df"
   ]
  },
  {
   "cell_type": "code",
   "execution_count": 12,
   "metadata": {
    "slideshow": {
     "slide_type": "skip"
    }
   },
   "outputs": [],
   "source": [
    "example_dir = Path('./examples/1/')\n",
    "data_dir = Path(example_dir, \"data\")\n",
    "if not data_dir.exists():\n",
    "    data_dir.mkdir()"
   ]
  },
  {
   "cell_type": "markdown",
   "metadata": {
    "slideshow": {
     "slide_type": "skip"
    }
   },
   "source": [
    "#### Create Template Data"
   ]
  },
  {
   "cell_type": "code",
   "execution_count": 13,
   "metadata": {
    "slideshow": {
     "slide_type": "skip"
    }
   },
   "outputs": [
    {
     "data": {
      "text/plain": [
       "b''"
      ]
     },
     "execution_count": 13,
     "metadata": {},
     "output_type": "execute_result"
    }
   ],
   "source": [
    "subprocess.check_output([\"otoole\", \"setup\", \"csv\", str(Path(data_dir)), \"--overwrite\"])"
   ]
  },
  {
   "cell_type": "markdown",
   "metadata": {
    "slideshow": {
     "slide_type": "skip"
    }
   },
   "source": [
    "### Create Data"
   ]
  },
  {
   "cell_type": "code",
   "execution_count": 14,
   "metadata": {
    "slideshow": {
     "slide_type": "skip"
    }
   },
   "outputs": [],
   "source": [
    "years = range(2020, 2071)\n",
    "make_set(years, str(Path(data_dir, \"YEAR.csv\")))\n",
    "techs = ['MINE_URANIUM', 'NUCLEAR']\n",
    "make_set(techs, str(Path(data_dir, \"TECHNOLOGY.csv\")))\n",
    "fuels = ['URANIUM', 'ELECTRICITY']\n",
    "make_set(fuels, str(Path(data_dir, \"FUEL.csv\")))\n",
    "regions = ['R1']\n",
    "make_set(regions, str(Path(data_dir, \"REGION.csv\")))\n",
    "ts = ['S1D1', 'S1D2', 'S2D1', 'S2D2','S3D1','S3D2','S4D1','S4D2']\n",
    "make_set(ts, str(Path(data_dir, \"TIMESLICE.csv\")))\n",
    "modes = [1]\n",
    "make_set(modes, str(Path(data_dir, \"MODE_OF_OPERATION.csv\")))"
   ]
  },
  {
   "cell_type": "markdown",
   "metadata": {
    "slideshow": {
     "slide_type": "skip"
    }
   },
   "source": [
    "#### Add Capital Costs"
   ]
  },
  {
   "cell_type": "code",
   "execution_count": 15,
   "metadata": {
    "slideshow": {
     "slide_type": "skip"
    }
   },
   "outputs": [
    {
     "data": {
      "text/html": [
       "<div>\n",
       "<style scoped>\n",
       "    .dataframe tbody tr th:only-of-type {\n",
       "        vertical-align: middle;\n",
       "    }\n",
       "\n",
       "    .dataframe tbody tr th {\n",
       "        vertical-align: top;\n",
       "    }\n",
       "\n",
       "    .dataframe thead th {\n",
       "        text-align: right;\n",
       "    }\n",
       "</style>\n",
       "<table border=\"1\" class=\"dataframe\">\n",
       "  <thead>\n",
       "    <tr style=\"text-align: right;\">\n",
       "      <th></th>\n",
       "      <th>REGION</th>\n",
       "      <th>TECHNOLOGY</th>\n",
       "      <th>YEAR</th>\n",
       "      <th>VALUE</th>\n",
       "    </tr>\n",
       "  </thead>\n",
       "  <tbody>\n",
       "    <tr>\n",
       "      <th>0</th>\n",
       "      <td>R1</td>\n",
       "      <td>NUCLEAR</td>\n",
       "      <td>2020</td>\n",
       "      <td>4000</td>\n",
       "    </tr>\n",
       "    <tr>\n",
       "      <th>1</th>\n",
       "      <td>R1</td>\n",
       "      <td>NUCLEAR</td>\n",
       "      <td>2021</td>\n",
       "      <td>4000</td>\n",
       "    </tr>\n",
       "    <tr>\n",
       "      <th>2</th>\n",
       "      <td>R1</td>\n",
       "      <td>NUCLEAR</td>\n",
       "      <td>2022</td>\n",
       "      <td>4000</td>\n",
       "    </tr>\n",
       "    <tr>\n",
       "      <th>3</th>\n",
       "      <td>R1</td>\n",
       "      <td>NUCLEAR</td>\n",
       "      <td>2023</td>\n",
       "      <td>4000</td>\n",
       "    </tr>\n",
       "    <tr>\n",
       "      <th>4</th>\n",
       "      <td>R1</td>\n",
       "      <td>NUCLEAR</td>\n",
       "      <td>2024</td>\n",
       "      <td>4000</td>\n",
       "    </tr>\n",
       "  </tbody>\n",
       "</table>\n",
       "</div>"
      ],
      "text/plain": [
       "  REGION TECHNOLOGY  YEAR  VALUE\n",
       "0     R1    NUCLEAR  2020   4000\n",
       "1     R1    NUCLEAR  2021   4000\n",
       "2     R1    NUCLEAR  2022   4000\n",
       "3     R1    NUCLEAR  2023   4000\n",
       "4     R1    NUCLEAR  2024   4000"
      ]
     },
     "execution_count": 15,
     "metadata": {},
     "output_type": "execute_result"
    }
   ],
   "source": [
    "capex = 4000 # M$ / GW\n",
    "capex_indices = {\n",
    "    \"REGION\": [regions],\n",
    "    \"TECHNOLOGY\": [\"NUCLEAR\"],\n",
    "    \"YEAR\": [years]\n",
    "}\n",
    "make_param(capex_indices, capex, str(Path(data_dir, \"CapitalCost.csv\"))).head()"
   ]
  },
  {
   "cell_type": "markdown",
   "metadata": {
    "slideshow": {
     "slide_type": "skip"
    }
   },
   "source": [
    "#### Add Fixed Operational Costs"
   ]
  },
  {
   "cell_type": "code",
   "execution_count": 16,
   "metadata": {
    "slideshow": {
     "slide_type": "skip"
    }
   },
   "outputs": [
    {
     "data": {
      "text/html": [
       "<div>\n",
       "<style scoped>\n",
       "    .dataframe tbody tr th:only-of-type {\n",
       "        vertical-align: middle;\n",
       "    }\n",
       "\n",
       "    .dataframe tbody tr th {\n",
       "        vertical-align: top;\n",
       "    }\n",
       "\n",
       "    .dataframe thead th {\n",
       "        text-align: right;\n",
       "    }\n",
       "</style>\n",
       "<table border=\"1\" class=\"dataframe\">\n",
       "  <thead>\n",
       "    <tr style=\"text-align: right;\">\n",
       "      <th></th>\n",
       "      <th>REGION</th>\n",
       "      <th>TECHNOLOGY</th>\n",
       "      <th>YEAR</th>\n",
       "      <th>VALUE</th>\n",
       "    </tr>\n",
       "  </thead>\n",
       "  <tbody>\n",
       "    <tr>\n",
       "      <th>0</th>\n",
       "      <td>R1</td>\n",
       "      <td>NUCLEAR</td>\n",
       "      <td>2020</td>\n",
       "      <td>50</td>\n",
       "    </tr>\n",
       "    <tr>\n",
       "      <th>1</th>\n",
       "      <td>R1</td>\n",
       "      <td>NUCLEAR</td>\n",
       "      <td>2021</td>\n",
       "      <td>50</td>\n",
       "    </tr>\n",
       "    <tr>\n",
       "      <th>2</th>\n",
       "      <td>R1</td>\n",
       "      <td>NUCLEAR</td>\n",
       "      <td>2022</td>\n",
       "      <td>50</td>\n",
       "    </tr>\n",
       "    <tr>\n",
       "      <th>3</th>\n",
       "      <td>R1</td>\n",
       "      <td>NUCLEAR</td>\n",
       "      <td>2023</td>\n",
       "      <td>50</td>\n",
       "    </tr>\n",
       "    <tr>\n",
       "      <th>4</th>\n",
       "      <td>R1</td>\n",
       "      <td>NUCLEAR</td>\n",
       "      <td>2024</td>\n",
       "      <td>50</td>\n",
       "    </tr>\n",
       "  </tbody>\n",
       "</table>\n",
       "</div>"
      ],
      "text/plain": [
       "  REGION TECHNOLOGY  YEAR  VALUE\n",
       "0     R1    NUCLEAR  2020     50\n",
       "1     R1    NUCLEAR  2021     50\n",
       "2     R1    NUCLEAR  2022     50\n",
       "3     R1    NUCLEAR  2023     50\n",
       "4     R1    NUCLEAR  2024     50"
      ]
     },
     "execution_count": 16,
     "metadata": {},
     "output_type": "execute_result"
    }
   ],
   "source": [
    "fixed = 50 # M$ / GW\n",
    "fixed_indices = {\n",
    "    \"REGION\": [regions],\n",
    "    \"TECHNOLOGY\": [\"NUCLEAR\"],\n",
    "    \"YEAR\": [years]\n",
    "}\n",
    "make_param(fixed_indices, fixed, str(Path(data_dir, \"FixedCost.csv\"))).head()"
   ]
  },
  {
   "cell_type": "markdown",
   "metadata": {
    "slideshow": {
     "slide_type": "skip"
    }
   },
   "source": [
    "#### Add Variable Costs"
   ]
  },
  {
   "cell_type": "code",
   "execution_count": 17,
   "metadata": {
    "slideshow": {
     "slide_type": "skip"
    }
   },
   "outputs": [
    {
     "data": {
      "text/html": [
       "<div>\n",
       "<style scoped>\n",
       "    .dataframe tbody tr th:only-of-type {\n",
       "        vertical-align: middle;\n",
       "    }\n",
       "\n",
       "    .dataframe tbody tr th {\n",
       "        vertical-align: top;\n",
       "    }\n",
       "\n",
       "    .dataframe thead th {\n",
       "        text-align: right;\n",
       "    }\n",
       "</style>\n",
       "<table border=\"1\" class=\"dataframe\">\n",
       "  <thead>\n",
       "    <tr style=\"text-align: right;\">\n",
       "      <th></th>\n",
       "      <th>REGION</th>\n",
       "      <th>TECHNOLOGY</th>\n",
       "      <th>MODE_OF_OPERATION</th>\n",
       "      <th>YEAR</th>\n",
       "      <th>VALUE</th>\n",
       "    </tr>\n",
       "  </thead>\n",
       "  <tbody>\n",
       "    <tr>\n",
       "      <th>0</th>\n",
       "      <td>R1</td>\n",
       "      <td>MINE_URANIUM</td>\n",
       "      <td>1</td>\n",
       "      <td>2020</td>\n",
       "      <td>2.5</td>\n",
       "    </tr>\n",
       "    <tr>\n",
       "      <th>1</th>\n",
       "      <td>R1</td>\n",
       "      <td>MINE_URANIUM</td>\n",
       "      <td>1</td>\n",
       "      <td>2021</td>\n",
       "      <td>2.5</td>\n",
       "    </tr>\n",
       "    <tr>\n",
       "      <th>2</th>\n",
       "      <td>R1</td>\n",
       "      <td>MINE_URANIUM</td>\n",
       "      <td>1</td>\n",
       "      <td>2022</td>\n",
       "      <td>2.5</td>\n",
       "    </tr>\n",
       "    <tr>\n",
       "      <th>3</th>\n",
       "      <td>R1</td>\n",
       "      <td>MINE_URANIUM</td>\n",
       "      <td>1</td>\n",
       "      <td>2023</td>\n",
       "      <td>2.5</td>\n",
       "    </tr>\n",
       "    <tr>\n",
       "      <th>4</th>\n",
       "      <td>R1</td>\n",
       "      <td>MINE_URANIUM</td>\n",
       "      <td>1</td>\n",
       "      <td>2024</td>\n",
       "      <td>2.5</td>\n",
       "    </tr>\n",
       "  </tbody>\n",
       "</table>\n",
       "</div>"
      ],
      "text/plain": [
       "  REGION    TECHNOLOGY MODE_OF_OPERATION  YEAR  VALUE\n",
       "0     R1  MINE_URANIUM                 1  2020    2.5\n",
       "1     R1  MINE_URANIUM                 1  2021    2.5\n",
       "2     R1  MINE_URANIUM                 1  2022    2.5\n",
       "3     R1  MINE_URANIUM                 1  2023    2.5\n",
       "4     R1  MINE_URANIUM                 1  2024    2.5"
      ]
     },
     "execution_count": 17,
     "metadata": {},
     "output_type": "execute_result"
    }
   ],
   "source": [
    "variable = 2.5 # M$ / PJ\n",
    "variable_indices = {\n",
    "    \"REGION\": [regions],\n",
    "    \"TECHNOLOGY\": [\"MINE_URANIUM\"],\n",
    "    \"MODE_OF_OPERATION\": [modes],\n",
    "    \"YEAR\": [years]\n",
    "}\n",
    "make_param(variable_indices, variable, str(Path(data_dir, \"VariableCost.csv\"))).head()"
   ]
  },
  {
   "cell_type": "markdown",
   "metadata": {
    "slideshow": {
     "slide_type": "skip"
    }
   },
   "source": [
    "#### Add Nuclear Power Plant Efficiency "
   ]
  },
  {
   "cell_type": "code",
   "execution_count": 18,
   "metadata": {
    "slideshow": {
     "slide_type": "skip"
    }
   },
   "outputs": [
    {
     "data": {
      "text/html": [
       "<div>\n",
       "<style scoped>\n",
       "    .dataframe tbody tr th:only-of-type {\n",
       "        vertical-align: middle;\n",
       "    }\n",
       "\n",
       "    .dataframe tbody tr th {\n",
       "        vertical-align: top;\n",
       "    }\n",
       "\n",
       "    .dataframe thead th {\n",
       "        text-align: right;\n",
       "    }\n",
       "</style>\n",
       "<table border=\"1\" class=\"dataframe\">\n",
       "  <thead>\n",
       "    <tr style=\"text-align: right;\">\n",
       "      <th></th>\n",
       "      <th>REGION</th>\n",
       "      <th>TECHNOLOGY</th>\n",
       "      <th>FUEL</th>\n",
       "      <th>MODE_OF_OPERATION</th>\n",
       "      <th>YEAR</th>\n",
       "      <th>VALUE</th>\n",
       "    </tr>\n",
       "  </thead>\n",
       "  <tbody>\n",
       "    <tr>\n",
       "      <th>0</th>\n",
       "      <td>R1</td>\n",
       "      <td>NUCLEAR</td>\n",
       "      <td>URANIUM</td>\n",
       "      <td>1</td>\n",
       "      <td>2020</td>\n",
       "      <td>1.25</td>\n",
       "    </tr>\n",
       "    <tr>\n",
       "      <th>1</th>\n",
       "      <td>R1</td>\n",
       "      <td>NUCLEAR</td>\n",
       "      <td>URANIUM</td>\n",
       "      <td>1</td>\n",
       "      <td>2021</td>\n",
       "      <td>1.25</td>\n",
       "    </tr>\n",
       "    <tr>\n",
       "      <th>2</th>\n",
       "      <td>R1</td>\n",
       "      <td>NUCLEAR</td>\n",
       "      <td>URANIUM</td>\n",
       "      <td>1</td>\n",
       "      <td>2022</td>\n",
       "      <td>1.25</td>\n",
       "    </tr>\n",
       "    <tr>\n",
       "      <th>3</th>\n",
       "      <td>R1</td>\n",
       "      <td>NUCLEAR</td>\n",
       "      <td>URANIUM</td>\n",
       "      <td>1</td>\n",
       "      <td>2023</td>\n",
       "      <td>1.25</td>\n",
       "    </tr>\n",
       "    <tr>\n",
       "      <th>4</th>\n",
       "      <td>R1</td>\n",
       "      <td>NUCLEAR</td>\n",
       "      <td>URANIUM</td>\n",
       "      <td>1</td>\n",
       "      <td>2024</td>\n",
       "      <td>1.25</td>\n",
       "    </tr>\n",
       "  </tbody>\n",
       "</table>\n",
       "</div>"
      ],
      "text/plain": [
       "  REGION TECHNOLOGY     FUEL MODE_OF_OPERATION  YEAR  VALUE\n",
       "0     R1    NUCLEAR  URANIUM                 1  2020   1.25\n",
       "1     R1    NUCLEAR  URANIUM                 1  2021   1.25\n",
       "2     R1    NUCLEAR  URANIUM                 1  2022   1.25\n",
       "3     R1    NUCLEAR  URANIUM                 1  2023   1.25\n",
       "4     R1    NUCLEAR  URANIUM                 1  2024   1.25"
      ]
     },
     "execution_count": 18,
     "metadata": {},
     "output_type": "execute_result"
    }
   ],
   "source": [
    "eff = 1.25 # 80 %\n",
    "eff_indices = {\n",
    "    \"REGION\": [regions],\n",
    "    \"TECHNOLOGY\": [\"NUCLEAR\"],\n",
    "    \"FUEL\": [\"URANIUM\"],\n",
    "    \"MODE_OF_OPERATION\": [modes],\n",
    "    \"YEAR\": [years]\n",
    "}\n",
    "make_param(eff_indices, eff, str(Path(data_dir, \"InputActivityRatio.csv\"))).head()"
   ]
  },
  {
   "cell_type": "markdown",
   "metadata": {
    "slideshow": {
     "slide_type": "skip"
    }
   },
   "source": [
    "#### Add Demand"
   ]
  },
  {
   "cell_type": "code",
   "execution_count": 19,
   "metadata": {
    "slideshow": {
     "slide_type": "skip"
    }
   },
   "outputs": [],
   "source": [
    "def add_demand(start_value, yearly_increase, years, region, fuel, save):\n",
    "    demand_data = []\n",
    "    for year in years:\n",
    "        demand_data.append([region, fuel, year, start_value*(1+yearly_increase)**(year-years[0])])\n",
    "    df = pd.DataFrame(demand_data, columns=['REGION','FUEL','YEAR','VALUE'])\n",
    "    df.to_csv(Path(data_dir, \"SpecifiedAnnualDemand.csv\"), index=False)\n",
    "    return df"
   ]
  },
  {
   "cell_type": "code",
   "execution_count": 20,
   "metadata": {
    "slideshow": {
     "slide_type": "skip"
    }
   },
   "outputs": [
    {
     "data": {
      "text/html": [
       "<div>\n",
       "<style scoped>\n",
       "    .dataframe tbody tr th:only-of-type {\n",
       "        vertical-align: middle;\n",
       "    }\n",
       "\n",
       "    .dataframe tbody tr th {\n",
       "        vertical-align: top;\n",
       "    }\n",
       "\n",
       "    .dataframe thead th {\n",
       "        text-align: right;\n",
       "    }\n",
       "</style>\n",
       "<table border=\"1\" class=\"dataframe\">\n",
       "  <thead>\n",
       "    <tr style=\"text-align: right;\">\n",
       "      <th></th>\n",
       "      <th>REGION</th>\n",
       "      <th>FUEL</th>\n",
       "      <th>YEAR</th>\n",
       "      <th>VALUE</th>\n",
       "    </tr>\n",
       "  </thead>\n",
       "  <tbody>\n",
       "    <tr>\n",
       "      <th>0</th>\n",
       "      <td>R1</td>\n",
       "      <td>ELECTRICITY</td>\n",
       "      <td>2020</td>\n",
       "      <td>1000.00000</td>\n",
       "    </tr>\n",
       "    <tr>\n",
       "      <th>1</th>\n",
       "      <td>R1</td>\n",
       "      <td>ELECTRICITY</td>\n",
       "      <td>2021</td>\n",
       "      <td>1050.00000</td>\n",
       "    </tr>\n",
       "    <tr>\n",
       "      <th>2</th>\n",
       "      <td>R1</td>\n",
       "      <td>ELECTRICITY</td>\n",
       "      <td>2022</td>\n",
       "      <td>1102.50000</td>\n",
       "    </tr>\n",
       "    <tr>\n",
       "      <th>3</th>\n",
       "      <td>R1</td>\n",
       "      <td>ELECTRICITY</td>\n",
       "      <td>2023</td>\n",
       "      <td>1157.62500</td>\n",
       "    </tr>\n",
       "    <tr>\n",
       "      <th>4</th>\n",
       "      <td>R1</td>\n",
       "      <td>ELECTRICITY</td>\n",
       "      <td>2024</td>\n",
       "      <td>1215.50625</td>\n",
       "    </tr>\n",
       "  </tbody>\n",
       "</table>\n",
       "</div>"
      ],
      "text/plain": [
       "  REGION         FUEL  YEAR       VALUE\n",
       "0     R1  ELECTRICITY  2020  1000.00000\n",
       "1     R1  ELECTRICITY  2021  1050.00000\n",
       "2     R1  ELECTRICITY  2022  1102.50000\n",
       "3     R1  ELECTRICITY  2023  1157.62500\n",
       "4     R1  ELECTRICITY  2024  1215.50625"
      ]
     },
     "execution_count": 20,
     "metadata": {},
     "output_type": "execute_result"
    }
   ],
   "source": [
    "start_value = 1000 # PJ\n",
    "yearly_increase = 0.05 # %\n",
    "add_demand(start_value, yearly_increase, years, regions[0], \"ELECTRICITY\", data_dir).head()"
   ]
  },
  {
   "cell_type": "markdown",
   "metadata": {
    "slideshow": {
     "slide_type": "skip"
    }
   },
   "source": [
    "### Add Operational Life"
   ]
  },
  {
   "cell_type": "code",
   "execution_count": 21,
   "metadata": {
    "slideshow": {
     "slide_type": "skip"
    }
   },
   "outputs": [
    {
     "data": {
      "text/html": [
       "<div>\n",
       "<style scoped>\n",
       "    .dataframe tbody tr th:only-of-type {\n",
       "        vertical-align: middle;\n",
       "    }\n",
       "\n",
       "    .dataframe tbody tr th {\n",
       "        vertical-align: top;\n",
       "    }\n",
       "\n",
       "    .dataframe thead th {\n",
       "        text-align: right;\n",
       "    }\n",
       "</style>\n",
       "<table border=\"1\" class=\"dataframe\">\n",
       "  <thead>\n",
       "    <tr style=\"text-align: right;\">\n",
       "      <th></th>\n",
       "      <th>REGION</th>\n",
       "      <th>TECHNOLOGY</th>\n",
       "      <th>VALUE</th>\n",
       "    </tr>\n",
       "  </thead>\n",
       "  <tbody>\n",
       "    <tr>\n",
       "      <th>0</th>\n",
       "      <td>R1</td>\n",
       "      <td>NUCLEAR</td>\n",
       "      <td>50</td>\n",
       "    </tr>\n",
       "  </tbody>\n",
       "</table>\n",
       "</div>"
      ],
      "text/plain": [
       "  REGION TECHNOLOGY  VALUE\n",
       "0     R1    NUCLEAR     50"
      ]
     },
     "execution_count": 21,
     "metadata": {},
     "output_type": "execute_result"
    }
   ],
   "source": [
    "op_life = 50 # years\n",
    "op_life_indices = {\n",
    "    \"REGION\": [regions],\n",
    "    \"TECHNOLOGY\": [\"NUCLEAR\"],\n",
    "}\n",
    "make_param(op_life_indices, op_life, str(Path(data_dir, \"OperationalLife.csv\"))).head()"
   ]
  },
  {
   "cell_type": "markdown",
   "metadata": {
    "slideshow": {
     "slide_type": "skip"
    }
   },
   "source": [
    "#### Add remaining parameters for model setup "
   ]
  },
  {
   "cell_type": "code",
   "execution_count": 22,
   "metadata": {
    "slideshow": {
     "slide_type": "skip"
    }
   },
   "outputs": [],
   "source": [
    "oar = 1\n",
    "oar_indices = {\n",
    "    \"REGION\": [regions],\n",
    "    \"TECHNOLOGY\": [\"NUCLEAR\"],\n",
    "    \"FUEL\": [\"ELECTRICITY\"],\n",
    "    \"MODE_OF_OPERATION\": [modes],\n",
    "    \"YEAR\": [years]\n",
    "}\n",
    "df_1 = make_param(oar_indices, oar)\n",
    "\n",
    "oar_indices = {\n",
    "    \"REGION\": [regions],\n",
    "    \"TECHNOLOGY\": [\"MINE_URANIUM\"],\n",
    "    \"FUEL\": [\"URANIUM\"],\n",
    "    \"MODE_OF_OPERATION\": [modes],\n",
    "    \"YEAR\": [years]\n",
    "}\n",
    "df_2 = make_param(oar_indices, oar)\n",
    "\n",
    "df = pd.concat([df_1, df_2])\n",
    "df.to_csv(Path(data_dir, \"OutputActivityRatio.csv\"), index=False)"
   ]
  },
  {
   "cell_type": "code",
   "execution_count": 23,
   "metadata": {
    "slideshow": {
     "slide_type": "skip"
    }
   },
   "outputs": [
    {
     "data": {
      "text/html": [
       "<div>\n",
       "<style scoped>\n",
       "    .dataframe tbody tr th:only-of-type {\n",
       "        vertical-align: middle;\n",
       "    }\n",
       "\n",
       "    .dataframe tbody tr th {\n",
       "        vertical-align: top;\n",
       "    }\n",
       "\n",
       "    .dataframe thead th {\n",
       "        text-align: right;\n",
       "    }\n",
       "</style>\n",
       "<table border=\"1\" class=\"dataframe\">\n",
       "  <thead>\n",
       "    <tr style=\"text-align: right;\">\n",
       "      <th></th>\n",
       "      <th>REGION</th>\n",
       "      <th>FUEL</th>\n",
       "      <th>TIMESLICE</th>\n",
       "      <th>YEAR</th>\n",
       "      <th>VALUE</th>\n",
       "    </tr>\n",
       "  </thead>\n",
       "  <tbody>\n",
       "    <tr>\n",
       "      <th>0</th>\n",
       "      <td>R1</td>\n",
       "      <td>ELECTRICITY</td>\n",
       "      <td>S1D1</td>\n",
       "      <td>2020</td>\n",
       "      <td>0.125</td>\n",
       "    </tr>\n",
       "    <tr>\n",
       "      <th>1</th>\n",
       "      <td>R1</td>\n",
       "      <td>ELECTRICITY</td>\n",
       "      <td>S1D1</td>\n",
       "      <td>2021</td>\n",
       "      <td>0.125</td>\n",
       "    </tr>\n",
       "    <tr>\n",
       "      <th>2</th>\n",
       "      <td>R1</td>\n",
       "      <td>ELECTRICITY</td>\n",
       "      <td>S1D1</td>\n",
       "      <td>2022</td>\n",
       "      <td>0.125</td>\n",
       "    </tr>\n",
       "    <tr>\n",
       "      <th>3</th>\n",
       "      <td>R1</td>\n",
       "      <td>ELECTRICITY</td>\n",
       "      <td>S1D1</td>\n",
       "      <td>2023</td>\n",
       "      <td>0.125</td>\n",
       "    </tr>\n",
       "    <tr>\n",
       "      <th>4</th>\n",
       "      <td>R1</td>\n",
       "      <td>ELECTRICITY</td>\n",
       "      <td>S1D1</td>\n",
       "      <td>2024</td>\n",
       "      <td>0.125</td>\n",
       "    </tr>\n",
       "  </tbody>\n",
       "</table>\n",
       "</div>"
      ],
      "text/plain": [
       "  REGION         FUEL TIMESLICE  YEAR  VALUE\n",
       "0     R1  ELECTRICITY      S1D1  2020  0.125\n",
       "1     R1  ELECTRICITY      S1D1  2021  0.125\n",
       "2     R1  ELECTRICITY      S1D1  2022  0.125\n",
       "3     R1  ELECTRICITY      S1D1  2023  0.125\n",
       "4     R1  ELECTRICITY      S1D1  2024  0.125"
      ]
     },
     "execution_count": 23,
     "metadata": {},
     "output_type": "execute_result"
    }
   ],
   "source": [
    "demand_profile = 0.125\n",
    "demand_profile_indices = {\n",
    "    \"REGION\": [regions],\n",
    "    \"FUEL\": [\"ELECTRICITY\"],\n",
    "    \"TIMESLICE\": [ts],\n",
    "    \"YEAR\": [years]\n",
    "}\n",
    "make_param(demand_profile_indices, demand_profile, str(Path(data_dir, \"SpecifiedDemandProfile.csv\"))).head()"
   ]
  },
  {
   "cell_type": "code",
   "execution_count": 24,
   "metadata": {
    "slideshow": {
     "slide_type": "skip"
    }
   },
   "outputs": [
    {
     "data": {
      "text/html": [
       "<div>\n",
       "<style scoped>\n",
       "    .dataframe tbody tr th:only-of-type {\n",
       "        vertical-align: middle;\n",
       "    }\n",
       "\n",
       "    .dataframe tbody tr th {\n",
       "        vertical-align: top;\n",
       "    }\n",
       "\n",
       "    .dataframe thead th {\n",
       "        text-align: right;\n",
       "    }\n",
       "</style>\n",
       "<table border=\"1\" class=\"dataframe\">\n",
       "  <thead>\n",
       "    <tr style=\"text-align: right;\">\n",
       "      <th></th>\n",
       "      <th>REGION</th>\n",
       "      <th>TECHNOLOGY</th>\n",
       "      <th>VALUE</th>\n",
       "    </tr>\n",
       "  </thead>\n",
       "  <tbody>\n",
       "    <tr>\n",
       "      <th>0</th>\n",
       "      <td>R1</td>\n",
       "      <td>MINE_URANIUM</td>\n",
       "      <td>31.536</td>\n",
       "    </tr>\n",
       "    <tr>\n",
       "      <th>1</th>\n",
       "      <td>R1</td>\n",
       "      <td>NUCLEAR</td>\n",
       "      <td>31.536</td>\n",
       "    </tr>\n",
       "  </tbody>\n",
       "</table>\n",
       "</div>"
      ],
      "text/plain": [
       "  REGION    TECHNOLOGY   VALUE\n",
       "0     R1  MINE_URANIUM  31.536\n",
       "1     R1       NUCLEAR  31.536"
      ]
     },
     "execution_count": 24,
     "metadata": {},
     "output_type": "execute_result"
    }
   ],
   "source": [
    "cap_to_activity = 31.536\n",
    "cap_to_activity_indices = {\n",
    "    \"REGION\": [regions],\n",
    "    \"TECHNOLOGY\": [techs],\n",
    "}\n",
    "make_param(cap_to_activity_indices, cap_to_activity, str(Path(data_dir, \"CapacityToActivityUnit.csv\")))"
   ]
  },
  {
   "cell_type": "markdown",
   "metadata": {
    "slideshow": {
     "slide_type": "subslide"
    }
   },
   "source": [
    "## One-at-a-time Sensitivity Analysis\n",
    "Run the model with the baseline input parameters and get a reference objective value"
   ]
  },
  {
   "cell_type": "code",
   "execution_count": 25,
   "metadata": {
    "slideshow": {
     "slide_type": "skip"
    }
   },
   "outputs": [],
   "source": [
    "def run_model(example_dir, path_to_csv, path_to_config, path_to_model, result_file):\n",
    "    \n",
    "    subprocess.check_output(\n",
    "        [\n",
    "            \"otoole\", \"convert\", \"csv\", \"datafile\", \n",
    "            str(Path(path_to_csv)), str(Path(example_dir, \"data.txt\")), str(Path(path_to_config))\n",
    "        ])\n",
    "\n",
    "    subprocess.check_output(\n",
    "        [\n",
    "            \"glpsol\", \n",
    "            \"-m\", str(Path(path_to_model)), \n",
    "            \"-d\", str(Path(example_dir, \"data.txt\")), \n",
    "            \"--wlp\", str(Path(example_dir, \"model.lp\")), \"--check\"\n",
    "        ])\n",
    "    subprocess.check_output(\n",
    "        [\n",
    "            \"cbc\", str(Path(example_dir, \"model.lp\")), \"solve\", \n",
    "            \"-solu\", str(Path(example_dir, result_file))\n",
    "        ])\n",
    "\n",
    "def get_objective_value(result_files):\n",
    "    for result_file in result_files:\n",
    "        print(f\"{result_file.name}\")\n",
    "        os.system(f\"head -1 {str(Path(example_dir, result_file))}\")"
   ]
  },
  {
   "cell_type": "code",
   "execution_count": 27,
   "metadata": {
    "slideshow": {
     "slide_type": "skip"
    }
   },
   "outputs": [
    {
     "name": "stdout",
     "output_type": "stream",
     "text": [
      "base.sol\n",
      "Optimal - objective value 571911.78404130\n"
     ]
    }
   ],
   "source": [
    "run_model(example_dir, data_dir, Path(example_dir, \"otoole.yaml\"), Path(example_dir, \"osemosys.txt\"), \"base.sol\")\n",
    "get_objective_value([Path(\"base.sol\")])"
   ]
  },
  {
   "cell_type": "markdown",
   "metadata": {
    "slideshow": {
     "slide_type": "subslide"
    }
   },
   "source": [
    "## Model Results\n",
    "\n",
    "Solving the model for total discounted costs produces an objective value  of `$572,721,000,000`. In local sensitivity analysis, we select a single parameter to alter and rerun the model. This will tell us the effect that single parameter has on the results around the optimal location. "
   ]
  },
  {
   "cell_type": "markdown",
   "metadata": {
    "slideshow": {
     "slide_type": "subslide"
    }
   },
   "source": [
    "### Parameter Changes\n",
    "\n",
    "We will change both the **capital costs** and **variable costs** of the nuclear power plant to see how sensitive the results are to these parameters. We will do 5 additional runs for each parameter, resulting in 10 total runs. This summary of model runs and results are given below.  \n",
    "\n",
    " Run      | Capital Costs (M\\$/GW) | Variable Costs (M\\$/PJ) | Objective Cost (M$)\n",
    ":---|---:|---:|---:\n",
    " Original | 4000                  | 2.5                   | 571911              \n",
    " 1        | 2500                  | 2.5                   | 445361              \n",
    " 2        | 3000                  | 2.5                   | 487545              \n",
    " 3        | 3500                  | 2.5                   | 529728              \n",
    " 4        | 4500                  | 2.5                   | 614095              \n",
    " 5        | 5000                  | 2.5                   | 656278              \n",
    " 6        | 4000                  | 1.5                   | 509698              \n",
    " 7        | 4000                  | 2.0                   | 540804              \n",
    " 8        | 4000                  | 3.0                   | 603018              \n",
    " 9        | 4000                  | 3.5                   | 634125              \n",
    " 10       | 4000                  | 4.0                   | 665232              "
   ]
  },
  {
   "cell_type": "code",
   "execution_count": 29,
   "metadata": {
    "slideshow": {
     "slide_type": "skip"
    }
   },
   "outputs": [
    {
     "name": "stdout",
     "output_type": "stream",
     "text": [
      "capex_2500.txt\n",
      "Optimal - objective value 445361.88647474\n",
      "capex_3000.txt\n",
      "Optimal - objective value 487545.18566359\n",
      "capex_3500.txt\n",
      "Optimal - objective value 529728.48485245\n",
      "capex_4500.txt\n",
      "Optimal - objective value 614095.08323016\n",
      "capex_5000.txt\n",
      "Optimal - objective value 656278.38241901\n",
      "var_cost_1.5.txt\n",
      "Optimal - objective value 509698.13682009\n",
      "var_cost_2.0.txt\n",
      "Optimal - objective value 540804.96043070\n",
      "var_cost_3.0.txt\n",
      "Optimal - objective value 603018.60765191\n",
      "var_cost_3.5.txt\n",
      "Optimal - objective value 634125.43126251\n",
      "var_cost_4.0.txt\n",
      "Optimal - objective value 665232.25487312\n"
     ]
    }
   ],
   "source": [
    "result_files = []\n",
    "\n",
    "# Iterate over capital cost\n",
    "capital_costs = [2500, 3000, 3500, 4500, 5000]\n",
    "for capital_cost in capital_costs:\n",
    "    make_param(capex_indices, capital_cost, str(Path(data_dir, \"CapitalCost.csv\")))\n",
    "    result_file = f\"capex_{capital_cost}.txt\"\n",
    "    result_files.append(Path(result_file))\n",
    "    run_model(example_dir, data_dir, str(Path(example_dir, \"otoole.yaml\")), str(Path(example_dir, \"osemosys.txt\")), result_file)\n",
    "\n",
    "# resest to original capital cost\n",
    "make_param(capex_indices, 4000, str(Path(data_dir, \"CapitalCost.csv\")))\n",
    "\n",
    "# Iterate over variable cost\n",
    "var_costs = [1.5, 2.0, 3.0, 3.5, 4.0]\n",
    "for var_cost in var_costs:\n",
    "    make_param(variable_indices, var_cost, str(Path(data_dir, \"VariableCost.csv\")))\n",
    "    result_file = f\"var_cost_{var_cost}.txt\"\n",
    "    result_files.append(Path(result_file))\n",
    "    run_model(example_dir, data_dir, str(Path(example_dir, \"otoole.yaml\")), str(Path(example_dir, \"osemosys.txt\")), result_file)\n",
    "\n",
    "# reset to original variable cost\n",
    "make_param(variable_indices, 2.5, str(Path(data_dir, \"VariableCost.csv\")))\n",
    "\n",
    "# extract objective costs\n",
    "get_objective_value(result_files)"
   ]
  },
  {
   "cell_type": "markdown",
   "metadata": {
    "slideshow": {
     "slide_type": "skip"
    }
   },
   "source": [
    "Create simple plots to see how the costs change with parameters"
   ]
  },
  {
   "cell_type": "code",
   "execution_count": 30,
   "metadata": {
    "slideshow": {
     "slide_type": "skip"
    }
   },
   "outputs": [],
   "source": [
    "def plot_LSA(df_capex, df_var):\n",
    "    _, axs = plt.subplots(1,2, figsize=(14,5), sharey=True)\n",
    "    df_capex.plot(ax=axs[0], marker='o', title='Effects of Capital Cost', xlabel='Capital Cost (M$/GW)', ylabel='Objective Cost (M$)')\n",
    "    df_var.plot(ax=axs[1], marker='o', title='Effects of Variable Cost', xlabel='Variable Cost (M$/PJ)', ylabel='Objective Cost (M$)')"
   ]
  },
  {
   "cell_type": "code",
   "execution_count": 31,
   "metadata": {
    "slideshow": {
     "slide_type": "skip"
    }
   },
   "outputs": [],
   "source": [
    "df_capex = pd.DataFrame([\n",
    "    [2500, 445361],\n",
    "    [3000, 487545],\n",
    "    [3500, 529728],\n",
    "    [4000, 571911],\n",
    "    [4500, 614095],\n",
    "    [5000, 656278],\n",
    "], columns=['Capex', 'Objective_Cost']).set_index('Capex')\n",
    "\n",
    "df_var = pd.DataFrame([\n",
    "    [1.5, 509698],\n",
    "    [2.0, 540804],\n",
    "    [2.5, 571911],\n",
    "    [3.0, 603018],\n",
    "    [3.5, 634125],\n",
    "    [4.0, 665232],\n",
    "], columns=['Var_Cost', 'Objective_Cost']).set_index('Var_Cost')"
   ]
  },
  {
   "cell_type": "code",
   "execution_count": 32,
   "metadata": {
    "slideshow": {
     "slide_type": "subslide"
    }
   },
   "outputs": [
    {
     "data": {
      "image/png": "[encoded data removed]",
      "text/plain": [
       "<Figure size 1400x500 with 2 Axes>"
      ]
     },
     "metadata": {},
     "output_type": "display_data"
    }
   ],
   "source": [
    "plot_LSA(df_capex, df_var)"
   ]
  },
  {
   "cell_type": "markdown",
   "metadata": {
    "slideshow": {
     "slide_type": "subslide"
    }
   },
   "source": [
    "## Disadvantages of local sensitivity analysis\n",
    "\n",
    "A local sensitivity analysis has several weaknesses.  These include the following.\n",
    "\n",
    "### Limited insights into the influence of parameters\n",
    "\n",
    "The steeper gradiant of the capital cost plot shows this is the more influential parameter over our range of values. As we add more parameters and build more complex models, viewing the gradient will become impractical. \n",
    "\n",
    "### Missing interaction effects\n",
    "\n",
    "This example also shows a relatively linear response between our variables and value of the objective function. While non-linear effects may be identified by this method, interaction effects would not be. As discussed later, variable costs (which include fuel cost) and the efficiency of the power plant will interact. We do not see this interaction through local sensitivity analysis.\n",
    "\n",
    "### Computational expense\n",
    "\n",
    "This approach is inefficient as we need to run one model run per parameter per step."
   ]
  },
  {
   "cell_type": "markdown",
   "metadata": {
    "slideshow": {
     "slide_type": "slide"
    }
   },
   "source": [
    "# Example Two \n",
    "\n",
    "We will repeat example one, except employ **GLOBAL** sensitivity analysis using the Method of Morris."
   ]
  },
  {
   "cell_type": "markdown",
   "metadata": {
    "slideshow": {
     "slide_type": "subslide"
    }
   },
   "source": [
    "## Reference Energy Systen\n",
    "\n",
    "Our RES and included parameters will remain the same as example 1. \n",
    "\n",
    "![RES](./examples/figures/res.jpg)"
   ]
  },
  {
   "cell_type": "markdown",
   "metadata": {
    "slideshow": {
     "slide_type": "subslide"
    }
   },
   "source": [
    "## The Workflow\n",
    "\n",
    "Performing global sensitivity analysis requires running the model many times and careful handling of the results. Therefore, it is beneficial to set up an automated workflow to reduce data handling errors. To execute the workflow, three main steps are required. \n",
    "\n",
    "1. Modify the configuration file\n",
    "2. Run the workflow \n",
    "3. Interpret the results\n",
    "\n",
    "A high-level graphical overview of the the workflow is given below. "
   ]
  },
  {
   "cell_type": "markdown",
   "metadata": {
    "slideshow": {
     "slide_type": "subslide"
    }
   },
   "source": [
    "\n",
    "![workflow](./examples/figures/workflow.jpg)\n"
   ]
  },
  {
   "cell_type": "markdown",
   "metadata": {
    "slideshow": {
     "slide_type": "subslide"
    }
   },
   "source": [
    "## The Configuration File\n",
    "\n",
    "The configuration file contains parameters that define how the sensitivity analysis will be conducted. For each factor we want to test, we can test its sensitivity independently of time. Moreover, if the parameter is defined over time (such as a yearly changing demand), we can also test the sensitivity dependent on time. "
   ]
  },
  {
   "cell_type": "markdown",
   "metadata": {
    "slideshow": {
     "slide_type": "subslide"
    }
   },
   "source": [
    "### Time Independent Factors \n",
    "\n",
    "The figure below highlights the two different options for time-independent factors that can be configured in the workflow. The red lines prepresent the user-entered bounds, while the green lines represent the modelled values. \n",
    "\n",
    "![gsa-options](./examples/figures/gsa_options_fixed.jpg)\n"
   ]
  },
  {
   "cell_type": "markdown",
   "metadata": {
    "slideshow": {
     "slide_type": "notes"
    }
   },
   "source": [
    "### Option One\n",
    "\n",
    "We specify a fixed start point. This results in **no sensitivity analysis** being performed, because we are not varying the parameter over different model runs. \n",
    "\n",
    "### Option Two\n",
    "\n",
    "We specify a moving start point, represented by the red bars. This can be beneficial in situations where we know the parameter value will not change throughout the model run, but want to test the sensitivity of this fixed value. For example, the operational life of a powerplant. "
   ]
  },
  {
   "cell_type": "markdown",
   "metadata": {
    "slideshow": {
     "slide_type": "subslide"
    }
   },
   "source": [
    "### Time Dependent Factors \n",
    "\n",
    "The figure below highlights three different options for time-dependent factors that can be configured in the workflow. The red lines represent the user-entered bounds, while the green lines represent the interpolated values. \n",
    "\n",
    "![gsa-options](./examples/figures/gsa_options_interpolate.jpg)\n"
   ]
  },
  {
   "cell_type": "markdown",
   "metadata": {
    "slideshow": {
     "slide_type": "notes"
    }
   },
   "source": [
    "### Option One\n",
    "\n",
    "We specify fixed start and end points. This results in **no sensitivity analysis** being performed, because we are not varying the parameter over different model runs. \n",
    "\n",
    "### Option Two\n",
    "\n",
    "We specify a fixed start point, and a moving end point. This can be beneficial in scenario where we know the starting value, but are uncertain about how the value will change in time. For example, the annual demand of our start year may be a known value, but we are uncertain how this will progress throughout the model horizon.\n",
    "Note that we currently interpolate linearly between the two points but this could include different shapes in the future.\n",
    "\n",
    "### Option Three\n",
    "\n",
    "We specify moving start and end points. This is appropriate to test the sensitivity of values when uncertain of both current and future values. For example, fuel costs are always changing, and testing the sensitivity of these changes on your model may be important."
   ]
  },
  {
   "cell_type": "markdown",
   "metadata": {
    "slideshow": {
     "slide_type": "subslide"
    }
   },
   "source": [
    "### Modify the Configuration File\n",
    "\n",
    "Navigate to [`examples/2/parameters.csv`](./examples/2/parameters.csv) file and add sensitivity parameters for the `CapitalCost`, `VariableCost`, and `InputActivityRatio` (defined as 1/efficiency). The formatted parameter csv should look similar to the following. The `interpolation_index` value is either `fixed` or `interpolate` for time independent and time dependent parameters respectively. \n",
    "\n",
    "Feel free to user your own values for the min/max values!\n",
    "\n",
    "|name |group|indexes|min_value_base_year|max_value_base_year|min_value_end_year|max_value_end_year|dist|interpolation_index|action|\n",
    "|-----|-----|-------|-------------------|-------------------|------------------|------------------|----|-------------------|------|\n",
    "|CapitalCost  |capital  |\"R1,NUCLEAR\"        |4000 |5000 |2000 |3000 |\"unif\" |\"YEAR\" |\"interpolate\" |\n",
    "|VariableCost |variable |\"R1,MINE_URANIUM,1\" |3.5  |4.0  |1.5  |1.75 |\"unif\" |\"YEAR\" |\"interpolate\" |\n",
    "|InputActivityRatio | IAR |\"R1,NUCLEAR,URANIUM,1\" |1.3 | 1.5 | 1.05 | 1.2 | \"unif\" | \"YEAR\" | \"interpolate\" |"
   ]
  },
  {
   "cell_type": "markdown",
   "metadata": {
    "slideshow": {
     "slide_type": "subslide"
    }
   },
   "source": [
    "### Run the Workflow\n",
    "\n",
    "Once we have defined our sensitivity parameters, we can run the workflow"
   ]
  },
  {
   "cell_type": "code",
   "execution_count": 49,
   "metadata": {
    "slideshow": {
     "slide_type": "skip"
    }
   },
   "outputs": [],
   "source": [
    "!cp -r ./examples/1/data ./examples/2/data"
   ]
  },
  {
   "cell_type": "code",
   "execution_count": 50,
   "metadata": {
    "slideshow": {
     "slide_type": "fragment"
    }
   },
   "outputs": [
    {
     "name": "stdout",
     "output_type": "stream",
     "text": [
      "\u001b[33mConfig file config/config.yaml is extended by additional config specified via the command line.\u001b[0m\n",
      "\u001b[33mBuilding DAG of jobs...\u001b[0m\n",
      "\u001b[33mUsing shell: /usr/bin/bash\u001b[0m\n",
      "\u001b[33mProvided cores: 1 (use --cores to define parallelism)\u001b[0m\n",
      "\u001b[33mRules claiming more threads will be scaled down.\u001b[0m\n",
      "\u001b[33mConda environments: ignored\u001b[0m\n",
      "\u001b[33mSingularity containers: ignored\u001b[0m\n",
      "\u001b[33mJob stats:\n",
      "job      count\n",
      "-----  -------\n",
      "clean        1\n",
      "total        1\n",
      "\u001b[0m\n",
      "Checking user inputs...\n",
      "\u001b[33mSelect jobs to execute...\u001b[0m\n",
      "\u001b[33mComplete log: .snakemake/log/2023-11-06T151705.730864.snakemake.log\u001b[0m\n",
      "Workflow finished successfully!\n"
     ]
    }
   ],
   "source": [
    "!snakemake --cores 1  clean --configfile examples/2/config.yaml --quiet"
   ]
  },
  {
   "cell_type": "code",
   "execution_count": 51,
   "metadata": {
    "slideshow": {
     "slide_type": "fragment"
    }
   },
   "outputs": [
    {
     "name": "stdout",
     "output_type": "stream",
     "text": [
      "\u001b[33mConfig file config/config.yaml is extended by additional config specified via the command line.\u001b[0m\n",
      "\u001b[33mBuilding DAG of jobs...\u001b[0m\n",
      "\u001b[33mUsing shell: /usr/bin/bash\u001b[0m\n",
      "\u001b[33mProvided cores: 1 (use --cores to define parallelism)\u001b[0m\n",
      "\u001b[33mRules claiming more threads will be scaled down.\u001b[0m\n",
      "\u001b[33mConda environments: ignored\u001b[0m\n",
      "\u001b[33mSingularity containers: ignored\u001b[0m\n",
      "\u001b[33mJob stats:\n",
      "job                       count\n",
      "----------------------  -------\n",
      "all                           1\n",
      "calculate_SA_objective        1\n",
      "copy_otoole_config           20\n",
      "create_model_data            20\n",
      "create_sample                 1\n",
      "expand_sample                 1\n",
      "generate_datafile            20\n",
      "generate_lp_file             20\n",
      "get_objective_value           1\n",
      "get_statistics               20\n",
      "modify_model_file            20\n",
      "process_solution             20\n",
      "solve_lp                     20\n",
      "unzip_lp                     20\n",
      "unzip_solution               20\n",
      "total                       205\n",
      "\u001b[0m\n",
      "Checking user inputs...\n",
      "\u001b[33mSelect jobs to execute...\u001b[0m\n",
      "\u001b[33mSelect jobs to execute...\u001b[0m\n",
      "\u001b[33mSelect jobs to execute...\u001b[0m\n",
      "\u001b[33mSelect jobs to execute...\u001b[0m\n",
      "\u001b[33mSelect jobs to execute...\u001b[0m\n",
      "\u001b[33mSelect jobs to execute...\u001b[0m\n",
      "\u001b[33mSelect jobs to execute...\u001b[0m\n",
      "\u001b[33mSelect jobs to execute...\u001b[0m\n",
      "\u001b[33mSelect jobs to execute...\u001b[0m\n",
      "\u001b[33mSelect jobs to execute...\u001b[0m\n",
      "\u001b[33mSelect jobs to execute...\u001b[0m\n",
      "\u001b[33mRemoving temporary output temp/0/model_1_modex.txt.\u001b[0m\n",
      "\u001b[33mSelect jobs to execute...\u001b[0m\n",
      "\u001b[33mRemoving temporary output temp/0/model_1.lp.gz.\u001b[0m\n",
      "\u001b[33mSelect jobs to execute...\u001b[0m\n",
      "Welcome to the CBC MILP Solver \n",
      "Version: 2.10.5 \n",
      "Build Date: Dec  8 2020 \n",
      "\n",
      "command line - cbc temp/0/model_1.lp solve -sec 1500 -solu temp/0/model_1.sol.gz (default strategy 1)\n",
      "Presolve 50 (-2704) rows, 51 (-1326) columns and 1324 (-19063) elements\n",
      "0  Obj 327057.26 Primal inf 5416.5217 (50)\n",
      "50  Obj 544291.33\n",
      "Optimal - objective value 544291.33\n",
      "After Postsolve, objective 544291.33, infeasibilities - dual 0 (0), primal 0 (0)\n",
      "Optimal objective 544291.3302 - 50 iterations time 0.002, Presolve 0.00\n",
      "seconds was changed from 1e+100 to 1500\n",
      "Total time (CPU seconds):       0.01   (Wallclock seconds):       0.02\n",
      "\n",
      "\u001b[33mRemoving temporary output temp/0/model_1.lp.\u001b[0m\n",
      "\u001b[33mSelect jobs to execute...\u001b[0m\n",
      "\u001b[33mRemoving temporary output temp/0/model_1.sol.gz.\u001b[0m\n",
      "\u001b[33mSelect jobs to execute...\u001b[0m\n",
      "\u001b[33mRemoving temporary output temp/0/model_1.txt.\u001b[0m\n",
      "\u001b[33mSelect jobs to execute...\u001b[0m\n",
      "\u001b[33mRemoving temporary output temp/0/model_1.sol.\u001b[0m\n",
      "\u001b[33mSelect jobs to execute...\u001b[0m\n",
      "\u001b[33mSelect jobs to execute...\u001b[0m\n",
      "\u001b[33mSelect jobs to execute...\u001b[0m\n",
      "\u001b[33mSelect jobs to execute...\u001b[0m\n",
      "\u001b[33mSelect jobs to execute...\u001b[0m\n",
      "\u001b[33mRemoving temporary output temp/0/model_11_modex.txt.\u001b[0m\n",
      "\u001b[33mSelect jobs to execute...\u001b[0m\n",
      "\u001b[33mRemoving temporary output temp/0/model_11.lp.gz.\u001b[0m\n",
      "\u001b[33mSelect jobs to execute...\u001b[0m\n",
      "Welcome to the CBC MILP Solver \n",
      "Version: 2.10.5 \n",
      "Build Date: Dec  8 2020 \n",
      "\n",
      "command line - cbc temp/0/model_11.lp solve -sec 1500 -solu temp/0/model_11.sol.gz (default strategy 1)\n",
      "Presolve 50 (-2704) rows, 51 (-1326) columns and 1324 (-19063) elements\n",
      "0  Obj 356705.99 Primal inf 5416.5217 (50)\n",
      "50  Obj 609044.77\n",
      "Optimal - objective value 609044.77\n",
      "After Postsolve, objective 609044.77, infeasibilities - dual 0 (0), primal 0 (0)\n",
      "Optimal objective 609044.7667 - 50 iterations time 0.002, Presolve 0.00\n",
      "seconds was changed from 1e+100 to 1500\n",
      "Total time (CPU seconds):       0.02   (Wallclock seconds):       0.02\n",
      "\n",
      "\u001b[33mRemoving temporary output temp/0/model_11.lp.\u001b[0m\n",
      "\u001b[33mSelect jobs to execute...\u001b[0m\n",
      "\u001b[33mRemoving temporary output temp/0/model_11.sol.gz.\u001b[0m\n",
      "\u001b[33mSelect jobs to execute...\u001b[0m\n",
      "\u001b[33mRemoving temporary output temp/0/model_11.txt.\u001b[0m\n",
      "\u001b[33mSelect jobs to execute...\u001b[0m\n",
      "\u001b[33mRemoving temporary output temp/0/model_11.sol.\u001b[0m\n",
      "\u001b[33mSelect jobs to execute...\u001b[0m\n",
      "\u001b[33mSelect jobs to execute...\u001b[0m\n",
      "\u001b[33mSelect jobs to execute...\u001b[0m\n",
      "\u001b[33mSelect jobs to execute...\u001b[0m\n",
      "\u001b[33mSelect jobs to execute...\u001b[0m\n",
      "\u001b[33mSelect jobs to execute...\u001b[0m\n",
      "\u001b[33mSelect jobs to execute...\u001b[0m\n",
      "\u001b[33mSelect jobs to execute...\u001b[0m\n",
      "\u001b[33mSelect jobs to execute...\u001b[0m\n",
      "\u001b[33mSelect jobs to execute...\u001b[0m\n",
      "\u001b[33mRemoving temporary output temp/0/model_19_modex.txt.\u001b[0m\n",
      "\u001b[33mSelect jobs to execute...\u001b[0m\n",
      "\u001b[33mRemoving temporary output temp/0/model_19.lp.gz.\u001b[0m\n",
      "\u001b[33mSelect jobs to execute...\u001b[0m\n",
      "Welcome to the CBC MILP Solver \n",
      "Version: 2.10.5 \n",
      "Build Date: Dec  8 2020 \n",
      "\n",
      "command line - cbc temp/0/model_19.lp solve -sec 1500 -solu temp/0/model_19.sol.gz (default strategy 1)\n",
      "Presolve 50 (-2704) rows, 51 (-1326) columns and 1324 (-19063) elements\n",
      "0  Obj 337633.31 Primal inf 5416.5217 (50)\n",
      "50  Obj 572419.47\n",
      "Optimal - objective value 572419.47\n",
      "After Postsolve, objective 572419.47, infeasibilities - dual 0 (0), primal 0 (0)\n",
      "Optimal objective 572419.4702 - 50 iterations time 0.002, Presolve 0.00\n",
      "seconds was changed from 1e+100 to 1500\n",
      "Total time (CPU seconds):       0.02   (Wallclock seconds):       0.02\n",
      "\n",
      "\u001b[33mRemoving temporary output temp/0/model_19.lp.\u001b[0m\n",
      "\u001b[33mSelect jobs to execute...\u001b[0m\n",
      "\u001b[33mRemoving temporary output temp/0/model_19.sol.gz.\u001b[0m\n",
      "\u001b[33mSelect jobs to execute...\u001b[0m\n",
      "\u001b[33mRemoving temporary output temp/0/model_19.txt.\u001b[0m\n",
      "\u001b[33mSelect jobs to execute...\u001b[0m\n",
      "\u001b[33mRemoving temporary output temp/0/model_19.sol.\u001b[0m\n",
      "\u001b[33mSelect jobs to execute...\u001b[0m\n",
      "\u001b[33mSelect jobs to execute...\u001b[0m\n",
      "\u001b[33mSelect jobs to execute...\u001b[0m\n",
      "\u001b[33mSelect jobs to execute...\u001b[0m\n",
      "\u001b[33mSelect jobs to execute...\u001b[0m\n",
      "\u001b[33mSelect jobs to execute...\u001b[0m\n",
      "\u001b[33mSelect jobs to execute...\u001b[0m\n",
      "\u001b[33mSelect jobs to execute...\u001b[0m\n",
      "\u001b[33mRemoving temporary output temp/0/model_7_modex.txt.\u001b[0m\n",
      "\u001b[33mSelect jobs to execute...\u001b[0m\n",
      "\u001b[33mRemoving temporary output temp/0/model_7.lp.gz.\u001b[0m\n",
      "\u001b[33mSelect jobs to execute...\u001b[0m\n",
      "Welcome to the CBC MILP Solver \n",
      "Version: 2.10.5 \n",
      "Build Date: Dec  8 2020 \n",
      "\n",
      "command line - cbc temp/0/model_7.lp solve -sec 1500 -solu temp/0/model_7.sol.gz (default strategy 1)\n",
      "Presolve 50 (-2704) rows, 51 (-1326) columns and 1324 (-19063) elements\n",
      "0  Obj 340797.26 Primal inf 5416.5217 (50)\n",
      "50  Obj 593136.04\n",
      "Optimal - objective value 593136.04\n",
      "After Postsolve, objective 593136.04, infeasibilities - dual 0 (0), primal 0 (0)\n",
      "Optimal objective 593136.0416 - 50 iterations time 0.002, Presolve 0.00\n",
      "seconds was changed from 1e+100 to 1500\n",
      "Total time (CPU seconds):       0.02   (Wallclock seconds):       0.02\n",
      "\n",
      "\u001b[33mRemoving temporary output temp/0/model_7.lp.\u001b[0m\n",
      "\u001b[33mSelect jobs to execute...\u001b[0m\n",
      "\u001b[33mRemoving temporary output temp/0/model_7.sol.gz.\u001b[0m\n",
      "\u001b[33mSelect jobs to execute...\u001b[0m\n",
      "\u001b[33mRemoving temporary output temp/0/model_7.txt.\u001b[0m\n",
      "\u001b[33mSelect jobs to execute...\u001b[0m\n",
      "\u001b[33mRemoving temporary output temp/0/model_7.sol.\u001b[0m\n",
      "\u001b[33mSelect jobs to execute...\u001b[0m\n",
      "\u001b[33mSelect jobs to execute...\u001b[0m\n",
      "\u001b[33mSelect jobs to execute...\u001b[0m\n",
      "\u001b[33mSelect jobs to execute...\u001b[0m\n",
      "\u001b[33mRemoving temporary output temp/0/model_15_modex.txt.\u001b[0m\n",
      "\u001b[33mSelect jobs to execute...\u001b[0m\n",
      "\u001b[33mRemoving temporary output temp/0/model_15.lp.gz.\u001b[0m\n",
      "\u001b[33mSelect jobs to execute...\u001b[0m\n",
      "Welcome to the CBC MILP Solver \n",
      "Version: 2.10.5 \n",
      "Build Date: Dec  8 2020 \n",
      "\n",
      "command line - cbc temp/0/model_15.lp solve -sec 1500 -solu temp/0/model_15.sol.gz (default strategy 1)\n",
      "Presolve 50 (-2704) rows, 51 (-1326) columns and 1324 (-19063) elements\n",
      "0  Obj 351367.09 Primal inf 5416.5217 (50)\n",
      "50  Obj 621257.96\n",
      "Optimal - objective value 621257.96\n",
      "After Postsolve, objective 621257.96, infeasibilities - dual 0 (0), primal 0 (0)\n",
      "Optimal objective 621257.9598 - 50 iterations time 0.002, Presolve 0.00\n",
      "seconds was changed from 1e+100 to 1500\n",
      "Total time (CPU seconds):       0.01   (Wallclock seconds):       0.02\n",
      "\n",
      "\u001b[33mRemoving temporary output temp/0/model_15.lp.\u001b[0m\n",
      "\u001b[33mSelect jobs to execute...\u001b[0m\n",
      "\u001b[33mRemoving temporary output temp/0/model_15.sol.gz.\u001b[0m\n",
      "\u001b[33mSelect jobs to execute...\u001b[0m\n",
      "\u001b[33mRemoving temporary output temp/0/model_15.txt.\u001b[0m\n",
      "\u001b[33mSelect jobs to execute...\u001b[0m\n",
      "\u001b[33mRemoving temporary output temp/0/model_15.sol.\u001b[0m\n",
      "\u001b[33mSelect jobs to execute...\u001b[0m\n",
      "\u001b[33mSelect jobs to execute...\u001b[0m\n",
      "\u001b[33mSelect jobs to execute...\u001b[0m\n",
      "\u001b[33mSelect jobs to execute...\u001b[0m\n",
      "\u001b[33mRemoving temporary output temp/0/model_5_modex.txt.\u001b[0m\n",
      "\u001b[33mSelect jobs to execute...\u001b[0m\n",
      "\u001b[33mRemoving temporary output temp/0/model_5.lp.gz.\u001b[0m\n",
      "\u001b[33mSelect jobs to execute...\u001b[0m\n",
      "Welcome to the CBC MILP Solver \n",
      "Version: 2.10.5 \n",
      "Build Date: Dec  8 2020 \n",
      "\n",
      "command line - cbc temp/0/model_5.lp solve -sec 1500 -solu temp/0/model_5.sol.gz (default strategy 1)\n",
      "Presolve 50 (-2704) rows, 51 (-1326) columns and 1324 (-19063) elements\n",
      "0  Obj 304857.36 Primal inf 5416.5217 (50)\n",
      "50  Obj 522091.43\n",
      "Optimal - objective value 522091.43\n",
      "After Postsolve, objective 522091.43, infeasibilities - dual 0 (0), primal 0 (0)\n",
      "Optimal objective 522091.4256 - 50 iterations time 0.002, Presolve 0.00\n",
      "seconds was changed from 1e+100 to 1500\n",
      "Total time (CPU seconds):       0.02   (Wallclock seconds):       0.02\n",
      "\n",
      "\u001b[33mRemoving temporary output temp/0/model_5.lp.\u001b[0m\n",
      "\u001b[33mSelect jobs to execute...\u001b[0m\n",
      "\u001b[33mRemoving temporary output temp/0/model_5.sol.gz.\u001b[0m\n",
      "\u001b[33mSelect jobs to execute...\u001b[0m\n",
      "\u001b[33mRemoving temporary output temp/0/model_5.txt.\u001b[0m\n",
      "\u001b[33mSelect jobs to execute...\u001b[0m\n",
      "\u001b[33mRemoving temporary output temp/0/model_5.sol.\u001b[0m\n",
      "\u001b[33mSelect jobs to execute...\u001b[0m\n",
      "\u001b[33mSelect jobs to execute...\u001b[0m\n",
      "\u001b[33mSelect jobs to execute...\u001b[0m\n",
      "\u001b[33mSelect jobs to execute...\u001b[0m\n",
      "\u001b[33mSelect jobs to execute...\u001b[0m\n",
      "\u001b[33mRemoving temporary output temp/0/model_16_modex.txt.\u001b[0m\n",
      "\u001b[33mSelect jobs to execute...\u001b[0m\n",
      "\u001b[33mRemoving temporary output temp/0/model_16.lp.gz.\u001b[0m\n",
      "\u001b[33mSelect jobs to execute...\u001b[0m\n",
      "Welcome to the CBC MILP Solver \n",
      "Version: 2.10.5 \n",
      "Build Date: Dec  8 2020 \n",
      "\n",
      "command line - cbc temp/0/model_16.lp solve -sec 1500 -solu temp/0/model_16.sol.gz (default strategy 1)\n",
      "Presolve 50 (-2704) rows, 51 (-1326) columns and 1324 (-19063) elements\n",
      "0  Obj 359506.94 Primal inf 5416.5217 (50)\n",
      "50  Obj 629397.81\n",
      "Optimal - objective value 629397.81\n",
      "After Postsolve, objective 629397.81, infeasibilities - dual 0 (0), primal 0 (0)\n",
      "Optimal objective 629397.8121 - 50 iterations time 0.002, Presolve 0.00\n",
      "seconds was changed from 1e+100 to 1500\n",
      "Total time (CPU seconds):       0.01   (Wallclock seconds):       0.02\n",
      "\n",
      "\u001b[33mRemoving temporary output temp/0/model_16.lp.\u001b[0m\n",
      "\u001b[33mSelect jobs to execute...\u001b[0m\n",
      "\u001b[33mRemoving temporary output temp/0/model_16.sol.gz.\u001b[0m\n",
      "\u001b[33mSelect jobs to execute...\u001b[0m\n",
      "\u001b[33mRemoving temporary output temp/0/model_16.txt.\u001b[0m\n",
      "\u001b[33mSelect jobs to execute...\u001b[0m\n",
      "\u001b[33mRemoving temporary output temp/0/model_16.sol.\u001b[0m\n",
      "\u001b[33mSelect jobs to execute...\u001b[0m\n",
      "\u001b[33mSelect jobs to execute...\u001b[0m\n",
      "\u001b[33mSelect jobs to execute...\u001b[0m\n",
      "\u001b[33mSelect jobs to execute...\u001b[0m\n",
      "\u001b[33mSelect jobs to execute...\u001b[0m\n",
      "\u001b[33mRemoving temporary output temp/0/model_8_modex.txt.\u001b[0m\n",
      "\u001b[33mSelect jobs to execute...\u001b[0m\n",
      "\u001b[33mRemoving temporary output temp/0/model_8.lp.gz.\u001b[0m\n",
      "\u001b[33mSelect jobs to execute...\u001b[0m\n",
      "Welcome to the CBC MILP Solver \n",
      "Version: 2.10.5 \n",
      "Build Date: Dec  8 2020 \n",
      "\n",
      "command line - cbc temp/0/model_8.lp solve -sec 1500 -solu temp/0/model_8.sol.gz (default strategy 1)\n",
      "Presolve 50 (-2704) rows, 51 (-1326) columns and 1324 (-19063) elements\n",
      "0  Obj 335570.17 Primal inf 5416.5217 (50)\n",
      "50  Obj 552804.23\n",
      "Optimal - objective value 552804.23\n",
      "After Postsolve, objective 552804.23, infeasibilities - dual 0 (0), primal 0 (0)\n",
      "Optimal objective 552804.2325 - 50 iterations time 0.002, Presolve 0.00\n",
      "seconds was changed from 1e+100 to 1500\n",
      "Total time (CPU seconds):       0.01   (Wallclock seconds):       0.02\n",
      "\n",
      "\u001b[33mRemoving temporary output temp/0/model_8.lp.\u001b[0m\n",
      "\u001b[33mSelect jobs to execute...\u001b[0m\n",
      "\u001b[33mRemoving temporary output temp/0/model_8.sol.gz.\u001b[0m\n",
      "\u001b[33mSelect jobs to execute...\u001b[0m\n",
      "\u001b[33mRemoving temporary output temp/0/model_8.txt.\u001b[0m\n",
      "\u001b[33mSelect jobs to execute...\u001b[0m\n",
      "\u001b[33mRemoving temporary output temp/0/model_8.sol.\u001b[0m\n",
      "\u001b[33mSelect jobs to execute...\u001b[0m\n",
      "\u001b[33mSelect jobs to execute...\u001b[0m\n",
      "\u001b[33mSelect jobs to execute...\u001b[0m\n",
      "\u001b[33mSelect jobs to execute...\u001b[0m\n",
      "\u001b[33mRemoving temporary output temp/0/model_10_modex.txt.\u001b[0m\n",
      "\u001b[33mSelect jobs to execute...\u001b[0m\n",
      "\u001b[33mRemoving temporary output temp/0/model_10.lp.gz.\u001b[0m\n",
      "\u001b[33mSelect jobs to execute...\u001b[0m\n",
      "Welcome to the CBC MILP Solver \n",
      "Version: 2.10.5 \n",
      "Build Date: Dec  8 2020 \n",
      "\n",
      "command line - cbc temp/0/model_10.lp solve -sec 1500 -solu temp/0/model_10.sol.gz (default strategy 1)\n",
      "Presolve 50 (-2704) rows, 51 (-1326) columns and 1324 (-19063) elements\n",
      "0  Obj 373723.49 Primal inf 5416.5217 (50)\n",
      "50  Obj 626062.27\n",
      "Optimal - objective value 626062.27\n",
      "After Postsolve, objective 626062.27, infeasibilities - dual 0 (0), primal 0 (0)\n",
      "Optimal objective 626062.2719 - 50 iterations time 0.002, Presolve 0.00\n",
      "seconds was changed from 1e+100 to 1500\n",
      "Total time (CPU seconds):       0.02   (Wallclock seconds):       0.02\n",
      "\n",
      "\u001b[33mRemoving temporary output temp/0/model_10.lp.\u001b[0m\n",
      "\u001b[33mSelect jobs to execute...\u001b[0m\n",
      "\u001b[33mRemoving temporary output temp/0/model_10.sol.gz.\u001b[0m\n",
      "\u001b[33mSelect jobs to execute...\u001b[0m\n",
      "\u001b[33mRemoving temporary output temp/0/model_10.txt.\u001b[0m\n",
      "\u001b[33mSelect jobs to execute...\u001b[0m\n",
      "\u001b[33mRemoving temporary output temp/0/model_10.sol.\u001b[0m\n",
      "\u001b[33mSelect jobs to execute...\u001b[0m\n",
      "\u001b[33mSelect jobs to execute...\u001b[0m\n",
      "\u001b[33mSelect jobs to execute...\u001b[0m\n",
      "\u001b[33mRemoving temporary output temp/0/model_18_modex.txt.\u001b[0m\n",
      "\u001b[33mSelect jobs to execute...\u001b[0m\n",
      "\u001b[33mRemoving temporary output temp/0/model_18.lp.gz.\u001b[0m\n",
      "\u001b[33mSelect jobs to execute...\u001b[0m\n",
      "Welcome to the CBC MILP Solver \n",
      "Version: 2.10.5 \n",
      "Build Date: Dec  8 2020 \n",
      "\n",
      "command line - cbc temp/0/model_18.lp solve -sec 1500 -solu temp/0/model_18.sol.gz (default strategy 1)\n",
      "Presolve 50 (-2704) rows, 51 (-1326) columns and 1324 (-19063) elements\n",
      "0  Obj 358773.28 Primal inf 5416.5217 (50)\n",
      "50  Obj 628664.15\n",
      "Optimal - objective value 628664.15\n",
      "After Postsolve, objective 628664.15, infeasibilities - dual 0 (0), primal 0 (0)\n",
      "Optimal objective 628664.1503 - 50 iterations time 0.002, Presolve 0.00\n",
      "seconds was changed from 1e+100 to 1500\n",
      "Total time (CPU seconds):       0.02   (Wallclock seconds):       0.02\n",
      "\n",
      "\u001b[33mRemoving temporary output temp/0/model_18.lp.\u001b[0m\n",
      "\u001b[33mSelect jobs to execute...\u001b[0m\n",
      "\u001b[33mRemoving temporary output temp/0/model_18.sol.gz.\u001b[0m\n",
      "\u001b[33mSelect jobs to execute...\u001b[0m\n",
      "\u001b[33mRemoving temporary output temp/0/model_18.txt.\u001b[0m\n",
      "\u001b[33mSelect jobs to execute...\u001b[0m\n",
      "\u001b[33mRemoving temporary output temp/0/model_18.sol.\u001b[0m\n",
      "\u001b[33mSelect jobs to execute...\u001b[0m\n",
      "\u001b[33mSelect jobs to execute...\u001b[0m\n",
      "\u001b[33mSelect jobs to execute...\u001b[0m\n",
      "\u001b[33mSelect jobs to execute...\u001b[0m\n",
      "\u001b[33mSelect jobs to execute...\u001b[0m\n",
      "\u001b[33mSelect jobs to execute...\u001b[0m\n",
      "\u001b[33mSelect jobs to execute...\u001b[0m\n",
      "\u001b[33mRemoving temporary output temp/0/model_9_modex.txt.\u001b[0m\n",
      "\u001b[33mSelect jobs to execute...\u001b[0m\n",
      "\u001b[33mRemoving temporary output temp/0/model_9.lp.gz.\u001b[0m\n",
      "\u001b[33mSelect jobs to execute...\u001b[0m\n",
      "Welcome to the CBC MILP Solver \n",
      "Version: 2.10.5 \n",
      "Build Date: Dec  8 2020 \n",
      "\n",
      "command line - cbc temp/0/model_9.lp solve -sec 1500 -solu temp/0/model_9.sol.gz (default strategy 1)\n",
      "Presolve 50 (-2704) rows, 51 (-1326) columns and 1324 (-19063) elements\n",
      "0  Obj 352583.52 Primal inf 5416.5217 (50)\n",
      "50  Obj 569817.59\n",
      "Optimal - objective value 569817.59\n",
      "After Postsolve, objective 569817.59, infeasibilities - dual 0 (0), primal 0 (0)\n",
      "Optimal objective 569817.5918 - 50 iterations time 0.002, Presolve 0.00\n",
      "seconds was changed from 1e+100 to 1500\n",
      "Total time (CPU seconds):       0.02   (Wallclock seconds):       0.02\n",
      "\n",
      "\u001b[33mRemoving temporary output temp/0/model_9.lp.\u001b[0m\n",
      "\u001b[33mSelect jobs to execute...\u001b[0m\n",
      "\u001b[33mRemoving temporary output temp/0/model_9.sol.gz.\u001b[0m\n",
      "\u001b[33mSelect jobs to execute...\u001b[0m\n",
      "\u001b[33mRemoving temporary output temp/0/model_9.txt.\u001b[0m\n",
      "\u001b[33mSelect jobs to execute...\u001b[0m\n",
      "\u001b[33mRemoving temporary output temp/0/model_9.sol.\u001b[0m\n",
      "\u001b[33mSelect jobs to execute...\u001b[0m\n",
      "\u001b[33mSelect jobs to execute...\u001b[0m\n",
      "\u001b[33mSelect jobs to execute...\u001b[0m\n",
      "\u001b[33mSelect jobs to execute...\u001b[0m\n",
      "\u001b[33mSelect jobs to execute...\u001b[0m\n",
      "\u001b[33mRemoving temporary output temp/0/model_17_modex.txt.\u001b[0m\n",
      "\u001b[33mSelect jobs to execute...\u001b[0m\n",
      "\u001b[33mRemoving temporary output temp/0/model_17.lp.gz.\u001b[0m\n",
      "\u001b[33mSelect jobs to execute...\u001b[0m\n",
      "Welcome to the CBC MILP Solver \n",
      "Version: 2.10.5 \n",
      "Build Date: Dec  8 2020 \n",
      "\n",
      "command line - cbc temp/0/model_17.lp solve -sec 1500 -solu temp/0/model_17.sol.gz (default strategy 1)\n",
      "Presolve 50 (-2704) rows, 51 (-1326) columns and 1324 (-19063) elements\n",
      "0  Obj 343969.2 Primal inf 5416.5217 (50)\n",
      "50  Obj 613860.07\n",
      "Optimal - objective value 613860.07\n",
      "After Postsolve, objective 613860.07, infeasibilities - dual 0 (0), primal 0 (0)\n",
      "Optimal objective 613860.0683 - 50 iterations time 0.012, Presolve 0.01\n",
      "seconds was changed from 1e+100 to 1500\n",
      "Total time (CPU seconds):       0.02   (Wallclock seconds):       0.03\n",
      "\n",
      "\u001b[33mRemoving temporary output temp/0/model_17.lp.\u001b[0m\n",
      "\u001b[33mSelect jobs to execute...\u001b[0m\n",
      "\u001b[33mRemoving temporary output temp/0/model_17.sol.gz.\u001b[0m\n",
      "\u001b[33mSelect jobs to execute...\u001b[0m\n",
      "\u001b[33mRemoving temporary output temp/0/model_17.txt.\u001b[0m\n",
      "\u001b[33mSelect jobs to execute...\u001b[0m\n",
      "\u001b[33mRemoving temporary output temp/0/model_17.sol.\u001b[0m\n",
      "\u001b[33mSelect jobs to execute...\u001b[0m\n",
      "\u001b[33mSelect jobs to execute...\u001b[0m\n",
      "\u001b[33mSelect jobs to execute...\u001b[0m\n",
      "\u001b[33mRemoving temporary output temp/0/model_6_modex.txt.\u001b[0m\n",
      "\u001b[33mSelect jobs to execute...\u001b[0m\n",
      "\u001b[33mRemoving temporary output temp/0/model_6.lp.gz.\u001b[0m\n",
      "\u001b[33mSelect jobs to execute...\u001b[0m\n",
      "Welcome to the CBC MILP Solver \n",
      "Version: 2.10.5 \n",
      "Build Date: Dec  8 2020 \n",
      "\n",
      "command line - cbc temp/0/model_6.lp solve -sec 1500 -solu temp/0/model_6.sol.gz (default strategy 1)\n",
      "Presolve 50 (-2704) rows, 51 (-1326) columns and 1324 (-19063) elements\n",
      "0  Obj 319657.29 Primal inf 5416.5217 (50)\n",
      "50  Obj 536891.36\n",
      "Optimal - objective value 536891.36\n",
      "After Postsolve, objective 536891.36, infeasibilities - dual 0 (0), primal 0 (0)\n",
      "Optimal objective 536891.3615 - 50 iterations time 0.012, Presolve 0.01\n",
      "seconds was changed from 1e+100 to 1500\n",
      "Total time (CPU seconds):       0.02   (Wallclock seconds):       0.02\n",
      "\n",
      "\u001b[33mRemoving temporary output temp/0/model_6.lp.\u001b[0m\n",
      "\u001b[33mSelect jobs to execute...\u001b[0m\n",
      "\u001b[33mRemoving temporary output temp/0/model_6.sol.gz.\u001b[0m\n",
      "\u001b[33mSelect jobs to execute...\u001b[0m\n",
      "\u001b[33mRemoving temporary output temp/0/model_6.txt.\u001b[0m\n",
      "\u001b[33mSelect jobs to execute...\u001b[0m\n",
      "\u001b[33mRemoving temporary output temp/0/model_6.sol.\u001b[0m\n",
      "\u001b[33mSelect jobs to execute...\u001b[0m\n",
      "\u001b[33mSelect jobs to execute...\u001b[0m\n",
      "\u001b[33mSelect jobs to execute...\u001b[0m\n",
      "\u001b[33mSelect jobs to execute...\u001b[0m\n",
      "\u001b[33mSelect jobs to execute...\u001b[0m\n",
      "\u001b[33mRemoving temporary output temp/0/model_12_modex.txt.\u001b[0m\n",
      "\u001b[33mSelect jobs to execute...\u001b[0m\n",
      "\u001b[33mRemoving temporary output temp/0/model_12.lp.gz.\u001b[0m\n",
      "\u001b[33mSelect jobs to execute...\u001b[0m\n",
      "Welcome to the CBC MILP Solver \n",
      "Version: 2.10.5 \n",
      "Build Date: Dec  8 2020 \n",
      "\n",
      "command line - cbc temp/0/model_12.lp solve -sec 1500 -solu temp/0/model_12.sol.gz (default strategy 1)\n",
      "Presolve 50 (-2704) rows, 51 (-1326) columns and 1324 (-19063) elements\n",
      "0  Obj 330231.27 Primal inf 5416.5217 (50)\n",
      "50  Obj 565017.43\n",
      "Optimal - objective value 565017.43\n",
      "After Postsolve, objective 565017.43, infeasibilities - dual 0 (0), primal 0 (0)\n",
      "Optimal objective 565017.4258 - 50 iterations time 0.012, Presolve 0.00\n",
      "seconds was changed from 1e+100 to 1500\n",
      "Total time (CPU seconds):       0.02   (Wallclock seconds):       0.02\n",
      "\n",
      "\u001b[33mRemoving temporary output temp/0/model_12.lp.\u001b[0m\n",
      "\u001b[33mSelect jobs to execute...\u001b[0m\n",
      "\u001b[33mRemoving temporary output temp/0/model_12.sol.gz.\u001b[0m\n",
      "\u001b[33mSelect jobs to execute...\u001b[0m\n",
      "\u001b[33mRemoving temporary output temp/0/model_12.txt.\u001b[0m\n",
      "\u001b[33mSelect jobs to execute...\u001b[0m\n",
      "\u001b[33mRemoving temporary output temp/0/model_12.sol.\u001b[0m\n",
      "\u001b[33mSelect jobs to execute...\u001b[0m\n",
      "\u001b[33mSelect jobs to execute...\u001b[0m\n",
      "\u001b[33mSelect jobs to execute...\u001b[0m\n",
      "\u001b[33mSelect jobs to execute...\u001b[0m\n",
      "\u001b[33mRemoving temporary output temp/0/model_4_modex.txt.\u001b[0m\n",
      "\u001b[33mSelect jobs to execute...\u001b[0m\n",
      "\u001b[33mRemoving temporary output temp/0/model_4.lp.gz.\u001b[0m\n",
      "\u001b[33mSelect jobs to execute...\u001b[0m\n",
      "Welcome to the CBC MILP Solver \n",
      "Version: 2.10.5 \n",
      "Build Date: Dec  8 2020 \n",
      "\n",
      "command line - cbc temp/0/model_4.lp solve -sec 1500 -solu temp/0/model_4.sol.gz (default strategy 1)\n",
      "Presolve 50 (-2704) rows, 51 (-1326) columns and 1324 (-19063) elements\n",
      "0  Obj 319661.44 Primal inf 5416.5217 (50)\n",
      "50  Obj 536895.51\n",
      "Optimal - objective value 536895.51\n",
      "After Postsolve, objective 536895.51, infeasibilities - dual 0 (0), primal 0 (0)\n",
      "Optimal objective 536895.5076 - 50 iterations time 0.012, Presolve 0.00\n",
      "seconds was changed from 1e+100 to 1500\n",
      "Total time (CPU seconds):       0.02   (Wallclock seconds):       0.03\n",
      "\n",
      "\u001b[33mRemoving temporary output temp/0/model_4.lp.\u001b[0m\n",
      "\u001b[33mSelect jobs to execute...\u001b[0m\n",
      "\u001b[33mRemoving temporary output temp/0/model_4.sol.gz.\u001b[0m\n",
      "\u001b[33mSelect jobs to execute...\u001b[0m\n",
      "\u001b[33mRemoving temporary output temp/0/model_4.txt.\u001b[0m\n",
      "\u001b[33mSelect jobs to execute...\u001b[0m\n",
      "\u001b[33mRemoving temporary output temp/0/model_4.sol.\u001b[0m\n",
      "\u001b[33mSelect jobs to execute...\u001b[0m\n",
      "\u001b[33mSelect jobs to execute...\u001b[0m\n",
      "\u001b[33mSelect jobs to execute...\u001b[0m\n",
      "\u001b[33mSelect jobs to execute...\u001b[0m\n",
      "\u001b[33mRemoving temporary output temp/0/model_13_modex.txt.\u001b[0m\n",
      "\u001b[33mSelect jobs to execute...\u001b[0m\n",
      "\u001b[33mRemoving temporary output temp/0/model_13.lp.gz.\u001b[0m\n",
      "\u001b[33mSelect jobs to execute...\u001b[0m\n",
      "Welcome to the CBC MILP Solver \n",
      "Version: 2.10.5 \n",
      "Build Date: Dec  8 2020 \n",
      "\n",
      "command line - cbc temp/0/model_13.lp solve -sec 1500 -solu temp/0/model_13.sol.gz (default strategy 1)\n",
      "Presolve 50 (-2704) rows, 51 (-1326) columns and 1324 (-19063) elements\n",
      "0  Obj 351371.23 Primal inf 5416.5217 (50)\n",
      "50  Obj 621262.11\n",
      "Optimal - objective value 621262.11\n",
      "After Postsolve, objective 621262.11, infeasibilities - dual 0 (0), primal 0 (0)\n",
      "Optimal objective 621262.106 - 50 iterations time 0.012, Presolve 0.01\n",
      "seconds was changed from 1e+100 to 1500\n",
      "Total time (CPU seconds):       0.03   (Wallclock seconds):       0.03\n",
      "\n",
      "\u001b[33mRemoving temporary output temp/0/model_13.lp.\u001b[0m\n",
      "\u001b[33mSelect jobs to execute...\u001b[0m\n",
      "\u001b[33mRemoving temporary output temp/0/model_13.sol.gz.\u001b[0m\n",
      "\u001b[33mSelect jobs to execute...\u001b[0m\n",
      "\u001b[33mRemoving temporary output temp/0/model_13.txt.\u001b[0m\n",
      "\u001b[33mSelect jobs to execute...\u001b[0m\n",
      "\u001b[33mRemoving temporary output temp/0/model_13.sol.\u001b[0m\n",
      "\u001b[33mSelect jobs to execute...\u001b[0m\n",
      "\u001b[33mSelect jobs to execute...\u001b[0m\n",
      "\u001b[33mSelect jobs to execute...\u001b[0m\n",
      "\u001b[33mSelect jobs to execute...\u001b[0m\n",
      "\u001b[33mRemoving temporary output temp/0/model_3_modex.txt.\u001b[0m\n",
      "\u001b[33mSelect jobs to execute...\u001b[0m\n",
      "\u001b[33mRemoving temporary output temp/0/model_3.lp.gz.\u001b[0m\n",
      "\u001b[33mSelect jobs to execute...\u001b[0m\n",
      "Welcome to the CBC MILP Solver \n",
      "Version: 2.10.5 \n",
      "Build Date: Dec  8 2020 \n",
      "\n",
      "command line - cbc temp/0/model_3.lp solve -sec 1500 -solu temp/0/model_3.sol.gz (default strategy 1)\n",
      "Presolve 50 (-2704) rows, 51 (-1326) columns and 1324 (-19063) elements\n",
      "0  Obj 365214.74 Primal inf 5416.5217 (50)\n",
      "50  Obj 617553.52\n",
      "Optimal - objective value 617553.52\n",
      "After Postsolve, objective 617553.52, infeasibilities - dual 0 (0), primal 0 (0)\n",
      "Optimal objective 617553.5156 - 50 iterations time 0.002, Presolve 0.00\n",
      "seconds was changed from 1e+100 to 1500\n",
      "Total time (CPU seconds):       0.02   (Wallclock seconds):       0.03\n",
      "\n",
      "\u001b[33mRemoving temporary output temp/0/model_3.lp.\u001b[0m\n",
      "\u001b[33mSelect jobs to execute...\u001b[0m\n",
      "\u001b[33mRemoving temporary output temp/0/model_3.sol.gz.\u001b[0m\n",
      "\u001b[33mSelect jobs to execute...\u001b[0m\n",
      "\u001b[33mRemoving temporary output temp/0/model_3.txt.\u001b[0m\n",
      "\u001b[33mSelect jobs to execute...\u001b[0m\n",
      "\u001b[33mRemoving temporary output temp/0/model_3.sol.\u001b[0m\n",
      "\u001b[33mSelect jobs to execute...\u001b[0m\n",
      "\u001b[33mSelect jobs to execute...\u001b[0m\n",
      "\u001b[33mSelect jobs to execute...\u001b[0m\n",
      "\u001b[33mSelect jobs to execute...\u001b[0m\n",
      "\u001b[33mRemoving temporary output temp/0/model_0_modex.txt.\u001b[0m\n",
      "\u001b[33mSelect jobs to execute...\u001b[0m\n",
      "\u001b[33mRemoving temporary output temp/0/model_0.lp.gz.\u001b[0m\n",
      "\u001b[33mSelect jobs to execute...\u001b[0m\n",
      "Welcome to the CBC MILP Solver \n",
      "Version: 2.10.5 \n",
      "Build Date: Dec  8 2020 \n",
      "\n",
      "command line - cbc temp/0/model_0.lp solve -sec 1500 -solu temp/0/model_0.sol.gz (default strategy 1)\n",
      "Presolve 50 (-2704) rows, 51 (-1326) columns and 1324 (-19063) elements\n",
      "0  Obj 312257.33 Primal inf 5416.5217 (50)\n",
      "50  Obj 529491.39\n",
      "Optimal - objective value 529491.39\n",
      "After Postsolve, objective 529491.39, infeasibilities - dual 0 (0), primal 0 (0)\n",
      "Optimal objective 529491.3944 - 50 iterations time 0.012, Presolve 0.00\n",
      "seconds was changed from 1e+100 to 1500\n",
      "Total time (CPU seconds):       0.02   (Wallclock seconds):       0.02\n",
      "\n",
      "\u001b[33mRemoving temporary output temp/0/model_0.lp.\u001b[0m\n",
      "\u001b[33mSelect jobs to execute...\u001b[0m\n",
      "\u001b[33mRemoving temporary output temp/0/model_0.sol.gz.\u001b[0m\n",
      "\u001b[33mSelect jobs to execute...\u001b[0m\n",
      "\u001b[33mRemoving temporary output temp/0/model_0.txt.\u001b[0m\n",
      "\u001b[33mSelect jobs to execute...\u001b[0m\n",
      "\u001b[33mRemoving temporary output temp/0/model_0.sol.\u001b[0m\n",
      "\u001b[33mSelect jobs to execute...\u001b[0m\n",
      "\u001b[33mSelect jobs to execute...\u001b[0m\n",
      "\u001b[33mSelect jobs to execute...\u001b[0m\n",
      "\u001b[33mSelect jobs to execute...\u001b[0m\n",
      "\u001b[33mRemoving temporary output temp/0/model_14_modex.txt.\u001b[0m\n",
      "\u001b[33mSelect jobs to execute...\u001b[0m\n",
      "\u001b[33mRemoving temporary output temp/0/model_14.lp.gz.\u001b[0m\n",
      "\u001b[33mSelect jobs to execute...\u001b[0m\n",
      "Welcome to the CBC MILP Solver \n",
      "Version: 2.10.5 \n",
      "Build Date: Dec  8 2020 \n",
      "\n",
      "command line - cbc temp/0/model_14.lp solve -sec 1500 -solu temp/0/model_14.sol.gz (default strategy 1)\n",
      "Presolve 50 (-2704) rows, 51 (-1326) columns and 1324 (-19063) elements\n",
      "0  Obj 336567.15 Primal inf 5416.5217 (50)\n",
      "50  Obj 606458.02\n",
      "Optimal - objective value 606458.02\n",
      "After Postsolve, objective 606458.02, infeasibilities - dual 0 (0), primal 0 (0)\n",
      "Optimal objective 606458.024 - 50 iterations time 0.012, Presolve 0.01\n",
      "seconds was changed from 1e+100 to 1500\n",
      "Total time (CPU seconds):       0.02   (Wallclock seconds):       0.03\n",
      "\n",
      "\u001b[33mRemoving temporary output temp/0/model_14.lp.\u001b[0m\n",
      "\u001b[33mSelect jobs to execute...\u001b[0m\n",
      "\u001b[33mRemoving temporary output temp/0/model_14.sol.gz.\u001b[0m\n",
      "\u001b[33mSelect jobs to execute...\u001b[0m\n",
      "\u001b[33mRemoving temporary output temp/0/model_14.txt.\u001b[0m\n",
      "\u001b[33mSelect jobs to execute...\u001b[0m\n",
      "\u001b[33mRemoving temporary output temp/0/model_14.sol.\u001b[0m\n",
      "\u001b[33mSelect jobs to execute...\u001b[0m\n",
      "\u001b[33mSelect jobs to execute...\u001b[0m\n",
      "\u001b[33mSelect jobs to execute...\u001b[0m\n",
      "\u001b[33mRemoving temporary output temp/0/model_2_modex.txt.\u001b[0m\n",
      "\u001b[33mSelect jobs to execute...\u001b[0m\n",
      "\u001b[33mRemoving temporary output temp/0/model_2.lp.gz.\u001b[0m\n",
      "\u001b[33mSelect jobs to execute...\u001b[0m\n",
      "Welcome to the CBC MILP Solver \n",
      "Version: 2.10.5 \n",
      "Build Date: Dec  8 2020 \n",
      "\n",
      "command line - cbc temp/0/model_2.lp solve -sec 1500 -solu temp/0/model_2.sol.gz (default strategy 1)\n",
      "Presolve 50 (-2704) rows, 51 (-1326) columns and 1324 (-19063) elements\n",
      "0  Obj 344074.77 Primal inf 5416.5217 (50)\n",
      "50  Obj 561308.84\n",
      "Optimal - objective value 561308.84\n",
      "After Postsolve, objective 561308.84, infeasibilities - dual 0 (0), primal 0 (0)\n",
      "Optimal objective 561308.8354 - 50 iterations time 0.012, Presolve 0.00\n",
      "seconds was changed from 1e+100 to 1500\n",
      "Total time (CPU seconds):       0.02   (Wallclock seconds):       0.02\n",
      "\n",
      "\u001b[33mRemoving temporary output temp/0/model_2.lp.\u001b[0m\n",
      "\u001b[33mSelect jobs to execute...\u001b[0m\n",
      "\u001b[33mRemoving temporary output temp/0/model_2.sol.gz.\u001b[0m\n",
      "\u001b[33mSelect jobs to execute...\u001b[0m\n",
      "\u001b[33mRemoving temporary output temp/0/model_2.txt.\u001b[0m\n",
      "\u001b[33mSelect jobs to execute...\u001b[0m\n",
      "\u001b[33mRemoving temporary output temp/0/model_2.sol.\u001b[0m\n",
      "\u001b[33mSelect jobs to execute...\u001b[0m\n",
      "\u001b[33mSelect jobs to execute...\u001b[0m\n",
      "\u001b[33mSelect jobs to execute...\u001b[0m\n",
      "\u001b[33mComplete log: .snakemake/log/2023-11-06T151711.446988.snakemake.log\u001b[0m\n",
      "Workflow finished successfully!\n"
     ]
    }
   ],
   "source": [
    "!snakemake --cores 1 --configfile examples/2/config.yaml --quiet"
   ]
  },
  {
   "cell_type": "markdown",
   "metadata": {
    "slideshow": {
     "slide_type": "subslide"
    }
   },
   "source": [
    "## View Results \n",
    "\n",
    "The global sensitivity analysis method used is Method of Morris (or elementary effects). \n",
    "This screening method produces three sensitivity measures, $\\mu$, $\\mu^{*}$, and $\\sigma$.\n",
    "\n",
    "- $\\mu$ estimates the mean of the distribution of the elementary effects\n",
    "- $\\mu^{*}$ estimates the mean of the distribution of the absolute elementary effects \n",
    "- $\\sigma$ (the standard deviation) provides an indication of the nonlinear effects and/or interactions with other factors\n",
    "\n",
    "The purpose of calculating $mu*$ in addition to $mu$ is that $mu$ may fail to identify a factor with considerable influence on the model. This can happen when both positive and negative effects are present, which are then cancelled out."
   ]
  },
  {
   "cell_type": "markdown",
   "metadata": {
    "slideshow": {
     "slide_type": "subslide"
    }
   },
   "source": [
    "### Tabular Results\n",
    "\n",
    "Tabluar results are found in the file [`results/0_summary/SA_objective.csv`](./results/0_summary/SA_objective.csv)"
   ]
  },
  {
   "cell_type": "code",
   "execution_count": 52,
   "metadata": {
    "slideshow": {
     "slide_type": "fragment"
    }
   },
   "outputs": [
    {
     "data": {
      "text/html": [
       "<div>\n",
       "<style scoped>\n",
       "    .dataframe tbody tr th:only-of-type {\n",
       "        vertical-align: middle;\n",
       "    }\n",
       "\n",
       "    .dataframe tbody tr th {\n",
       "        vertical-align: top;\n",
       "    }\n",
       "\n",
       "    .dataframe thead th {\n",
       "        text-align: right;\n",
       "    }\n",
       "</style>\n",
       "<table border=\"1\" class=\"dataframe\">\n",
       "  <thead>\n",
       "    <tr style=\"text-align: right;\">\n",
       "      <th></th>\n",
       "      <th>mu</th>\n",
       "      <th>mu_star</th>\n",
       "      <th>sigma</th>\n",
       "      <th>mu_star_conf</th>\n",
       "    </tr>\n",
       "  </thead>\n",
       "  <tbody>\n",
       "    <tr>\n",
       "      <th>capital</th>\n",
       "      <td>84367.020211</td>\n",
       "      <td>84367.020211</td>\n",
       "      <td>6.677589e-09</td>\n",
       "      <td>5.580955e-09</td>\n",
       "    </tr>\n",
       "    <tr>\n",
       "      <th>variable</th>\n",
       "      <td>23085.273193</td>\n",
       "      <td>23085.273193</td>\n",
       "      <td>1.442976e+03</td>\n",
       "      <td>1.199016e+03</td>\n",
       "    </tr>\n",
       "    <tr>\n",
       "      <th>IAR</th>\n",
       "      <td>23534.176950</td>\n",
       "      <td>23534.176950</td>\n",
       "      <td>1.818513e+03</td>\n",
       "      <td>1.503433e+03</td>\n",
       "    </tr>\n",
       "  </tbody>\n",
       "</table>\n",
       "</div>"
      ],
      "text/plain": [
       "                    mu       mu_star         sigma  mu_star_conf\n",
       "capital   84367.020211  84367.020211  6.677589e-09  5.580955e-09\n",
       "variable  23085.273193  23085.273193  1.442976e+03  1.199016e+03\n",
       "IAR       23534.176950  23534.176950  1.818513e+03  1.503433e+03"
      ]
     },
     "execution_count": 52,
     "metadata": {},
     "output_type": "execute_result"
    }
   ],
   "source": [
    "pd.read_csv(\"./results/0_summary/SA_objective.csv\", index_col=0)"
   ]
  },
  {
   "cell_type": "markdown",
   "metadata": {
    "slideshow": {
     "slide_type": "subslide"
    }
   },
   "source": [
    "### Graphical Results\n",
    "\n",
    "Graphical results are found in the file [`results/0_summary/SA_objective.png`](./results/0_summary/SA_objective.png)"
   ]
  },
  {
   "cell_type": "code",
   "execution_count": 53,
   "metadata": {
    "slideshow": {
     "slide_type": "subslide"
    }
   },
   "outputs": [
    {
     "data": {
      "image/png": "[encoded data removed]",
      "text/plain": [
       "<IPython.core.display.Image object>"
      ]
     },
     "execution_count": 53,
     "metadata": {},
     "output_type": "execute_result"
    }
   ],
   "source": [
    "display.Image(\"./results/0_summary/SA_objective.png\")"
   ]
  },
  {
   "cell_type": "markdown",
   "metadata": {
    "slideshow": {
     "slide_type": "notes"
    }
   },
   "source": [
    "### Interpreting Results\n",
    "\n",
    "Capital cost is the most influential factor, of the ones tested, on the total discounted cost of the system. There is no interaction between capital costs and variable costs or input activity ratio. Variable costs and the input activity ratio have non-linear effects and/or interact with each other. "
   ]
  },
  {
   "cell_type": "markdown",
   "metadata": {
    "slideshow": {
     "slide_type": "slide"
    }
   },
   "source": [
    "# Example Three\n",
    "\n",
    "In this example, it's now up to you to modify the sensitivity parameters ! "
   ]
  },
  {
   "cell_type": "markdown",
   "metadata": {
    "slideshow": {
     "slide_type": "subslide"
    }
   },
   "source": [
    "## Reference Energy System\n",
    "\n",
    "Our RES and included parameters will remain the same. \n",
    "\n",
    "![RES](./examples/figures/res.jpg)"
   ]
  },
  {
   "cell_type": "markdown",
   "metadata": {
    "slideshow": {
     "slide_type": "subslide"
    }
   },
   "source": [
    "### Modify the Configuration File\n",
    "\n",
    "Navigate to [`examples/3/parameters.csv`](./examples/3/parameters.csv) file and add sensitivity parameters. The available parameters to explore are shown below. Modify the configuration file values however you want ! \n",
    "\n",
    "|name |group|indexes|min_value_base_year|max_value_base_year|min_value_end_year|max_value_end_year|dist|interpolation_index|action|\n",
    "|-----|-----|-------|-------------------|-------------------|------------------|------------------|----|-------------------|------|\n",
    "|CapitalCost           |capital  |\"R1,NUCLEAR\"                |XXX |XXX |XXX |XXX |\"unif\" |\"YEAR\" |\"interpolate\" |\n",
    "|FixedCost             |fixed    |\"R1,NUCLEAR\"                |XXX |XXX |XXX |XXX |\"unif\" |\"YEAR\" |\"interpolate\" |\n",
    "|VariableCost          |variable |\"R1,MINE_URANIUM,1\"         |XXX |XXX |XXX |XXX |\"unif\" |\"YEAR\" |\"interpolate\" |\n",
    "|SpecifiedAnnualDemand |demand   |\"R1,ELECTRICITY\"            |XXX |XXX |XXX |XXX |\"unif\" |\"YEAR\" |\"interpolate\" |\n",
    "|InputActivityRatio    |iar      |\"R1,NUCLEAR,URANIUM,1\"      |XXX |XXX |XXX |XXX |\"unif\" |\"YEAR\" |\"interpolate\" |\n",
    "|OperationalLife       |oplife   |\"R1,NUCLEAR\"                |XXX |XXX |XXX |XXX |\"unif\" |\"YEAR\" |\"fixed\" |"
   ]
  },
  {
   "cell_type": "markdown",
   "metadata": {
    "slideshow": {
     "slide_type": "subslide"
    }
   },
   "source": [
    "### Run the Workflow"
   ]
  },
  {
   "cell_type": "code",
   "execution_count": 54,
   "metadata": {
    "slideshow": {
     "slide_type": "skip"
    }
   },
   "outputs": [],
   "source": [
    "!cp -r ./examples/1/data ./examples/3/data"
   ]
  },
  {
   "cell_type": "code",
   "execution_count": 56,
   "metadata": {
    "slideshow": {
     "slide_type": "fragment"
    }
   },
   "outputs": [
    {
     "name": "stdout",
     "output_type": "stream",
     "text": [
      "\u001b[33mConfig file config/config.yaml is extended by additional config specified via the command line.\u001b[0m\n",
      "\u001b[33mBuilding DAG of jobs...\u001b[0m\n",
      "\u001b[33mUsing shell: /usr/bin/bash\u001b[0m\n",
      "\u001b[33mProvided cores: 1 (use --cores to define parallelism)\u001b[0m\n",
      "\u001b[33mRules claiming more threads will be scaled down.\u001b[0m\n",
      "\u001b[33mConda environments: ignored\u001b[0m\n",
      "\u001b[33mSingularity containers: ignored\u001b[0m\n",
      "\u001b[33mJob stats:\n",
      "job      count\n",
      "-----  -------\n",
      "clean        1\n",
      "total        1\n",
      "\u001b[0m\n",
      "Checking user inputs...\n",
      "\u001b[33mSelect jobs to execute...\u001b[0m\n",
      "\u001b[33mComplete log: .snakemake/log/2023-11-06T152521.554887.snakemake.log\u001b[0m\n",
      "Workflow finished successfully!\n"
     ]
    }
   ],
   "source": [
    "!snakemake clean --cores 1 --configfile examples/3/config.yaml --quiet"
   ]
  },
  {
   "cell_type": "code",
   "execution_count": 57,
   "metadata": {
    "slideshow": {
     "slide_type": "fragment"
    }
   },
   "outputs": [
    {
     "name": "stdout",
     "output_type": "stream",
     "text": [
      "\u001b[33mConfig file config/config.yaml is extended by additional config specified via the command line.\u001b[0m\n",
      "\u001b[33mBuilding DAG of jobs...\u001b[0m\n",
      "\u001b[33mUsing shell: /usr/bin/bash\u001b[0m\n",
      "\u001b[33mProvided cores: 1 (use --cores to define parallelism)\u001b[0m\n",
      "\u001b[33mRules claiming more threads will be scaled down.\u001b[0m\n",
      "\u001b[33mConda environments: ignored\u001b[0m\n",
      "\u001b[33mSingularity containers: ignored\u001b[0m\n",
      "\u001b[33mJob stats:\n",
      "job                       count\n",
      "----------------------  -------\n",
      "all                           1\n",
      "calculate_SA_objective        1\n",
      "copy_otoole_config           30\n",
      "create_model_data            30\n",
      "create_sample                 1\n",
      "expand_sample                 1\n",
      "generate_datafile            30\n",
      "generate_lp_file             30\n",
      "get_objective_value           1\n",
      "get_statistics               30\n",
      "modify_model_file            30\n",
      "process_solution             30\n",
      "solve_lp                     30\n",
      "unzip_lp                     30\n",
      "unzip_solution               30\n",
      "total                       305\n",
      "\u001b[0m\n",
      "Checking user inputs...\n",
      "\u001b[33mSelect jobs to execute...\u001b[0m\n",
      "\u001b[33mSelect jobs to execute...\u001b[0m\n",
      "\u001b[33mSelect jobs to execute...\u001b[0m\n",
      "\u001b[33mSelect jobs to execute...\u001b[0m\n",
      "\u001b[33mSelect jobs to execute...\u001b[0m\n",
      "\u001b[33mSelect jobs to execute...\u001b[0m\n",
      "\u001b[33mSelect jobs to execute...\u001b[0m\n",
      "\u001b[33mSelect jobs to execute...\u001b[0m\n",
      "\u001b[33mSelect jobs to execute...\u001b[0m\n",
      "\u001b[33mSelect jobs to execute...\u001b[0m\n",
      "\u001b[33mSelect jobs to execute...\u001b[0m\n",
      "\u001b[33mSelect jobs to execute...\u001b[0m\n",
      "\u001b[33mSelect jobs to execute...\u001b[0m\n",
      "\u001b[33mSelect jobs to execute...\u001b[0m\n",
      "\u001b[33mSelect jobs to execute...\u001b[0m\n",
      "\u001b[33mSelect jobs to execute...\u001b[0m\n",
      "\u001b[33mSelect jobs to execute...\u001b[0m\n",
      "\u001b[33mSelect jobs to execute...\u001b[0m\n",
      "\u001b[33mRemoving temporary output temp/0/model_25_modex.txt.\u001b[0m\n",
      "\u001b[33mSelect jobs to execute...\u001b[0m\n",
      "\u001b[33mRemoving temporary output temp/0/model_25.lp.gz.\u001b[0m\n",
      "\u001b[33mSelect jobs to execute...\u001b[0m\n",
      "Welcome to the CBC MILP Solver \n",
      "Version: 2.10.5 \n",
      "Build Date: Dec  8 2020 \n",
      "\n",
      "command line - cbc temp/0/model_25.lp solve -sec 1500 -solu temp/0/model_25.sol.gz (default strategy 1)\n",
      "Presolve 50 (-2704) rows, 51 (-1326) columns and 1325 (-19075) elements\n",
      "0  Obj 360125.4 Primal inf 5821.9178 (50)\n",
      "50  Obj 704649.45\n",
      "Optimal - objective value 704649.45\n",
      "After Postsolve, objective 704649.45, infeasibilities - dual 0 (0), primal 0 (0)\n",
      "Optimal objective 704649.4531 - 50 iterations time 0.002, Presolve 0.00\n",
      "seconds was changed from 1e+100 to 1500\n",
      "Total time (CPU seconds):       0.02   (Wallclock seconds):       0.02\n",
      "\n",
      "\u001b[33mRemoving temporary output temp/0/model_25.lp.\u001b[0m\n",
      "\u001b[33mSelect jobs to execute...\u001b[0m\n",
      "\u001b[33mRemoving temporary output temp/0/model_25.sol.gz.\u001b[0m\n",
      "\u001b[33mSelect jobs to execute...\u001b[0m\n",
      "\u001b[33mRemoving temporary output temp/0/model_25.txt.\u001b[0m\n",
      "\u001b[33mSelect jobs to execute...\u001b[0m\n",
      "\u001b[33mRemoving temporary output temp/0/model_25.sol.\u001b[0m\n",
      "\u001b[33mSelect jobs to execute...\u001b[0m\n",
      "\u001b[33mSelect jobs to execute...\u001b[0m\n",
      "\u001b[33mSelect jobs to execute...\u001b[0m\n",
      "\u001b[33mSelect jobs to execute...\u001b[0m\n",
      "\u001b[33mRemoving temporary output temp/0/model_11_modex.txt.\u001b[0m\n",
      "\u001b[33mSelect jobs to execute...\u001b[0m\n",
      "\u001b[33mRemoving temporary output temp/0/model_11.lp.gz.\u001b[0m\n",
      "\u001b[33mSelect jobs to execute...\u001b[0m\n",
      "Welcome to the CBC MILP Solver \n",
      "Version: 2.10.5 \n",
      "Build Date: Dec  8 2020 \n",
      "\n",
      "command line - cbc temp/0/model_11.lp solve -sec 1500 -solu temp/0/model_11.sol.gz (default strategy 1)\n",
      "Presolve 50 (-2704) rows, 51 (-1326) columns and 1325 (-19075) elements\n",
      "0  Obj 307329.85 Primal inf 5821.9178 (50)\n",
      "50  Obj 636413.36\n",
      "Optimal - objective value 636413.36\n",
      "After Postsolve, objective 636413.36, infeasibilities - dual 0 (0), primal 0 (0)\n",
      "Optimal objective 636413.3622 - 50 iterations time 0.002, Presolve 0.00\n",
      "seconds was changed from 1e+100 to 1500\n",
      "Total time (CPU seconds):       0.02   (Wallclock seconds):       0.02\n",
      "\n",
      "\u001b[33mRemoving temporary output temp/0/model_11.lp.\u001b[0m\n",
      "\u001b[33mSelect jobs to execute...\u001b[0m\n",
      "\u001b[33mRemoving temporary output temp/0/model_11.sol.gz.\u001b[0m\n",
      "\u001b[33mSelect jobs to execute...\u001b[0m\n",
      "\u001b[33mRemoving temporary output temp/0/model_11.txt.\u001b[0m\n",
      "\u001b[33mSelect jobs to execute...\u001b[0m\n",
      "\u001b[33mRemoving temporary output temp/0/model_11.sol.\u001b[0m\n",
      "\u001b[33mSelect jobs to execute...\u001b[0m\n",
      "\u001b[33mSelect jobs to execute...\u001b[0m\n",
      "\u001b[33mSelect jobs to execute...\u001b[0m\n",
      "\u001b[33mSelect jobs to execute...\u001b[0m\n",
      "\u001b[33mSelect jobs to execute...\u001b[0m\n",
      "\u001b[33mSelect jobs to execute...\u001b[0m\n",
      "\u001b[33mRemoving temporary output temp/0/model_15_modex.txt.\u001b[0m\n",
      "\u001b[33mSelect jobs to execute...\u001b[0m\n",
      "\u001b[33mRemoving temporary output temp/0/model_15.lp.gz.\u001b[0m\n",
      "\u001b[33mSelect jobs to execute...\u001b[0m\n",
      "Welcome to the CBC MILP Solver \n",
      "Version: 2.10.5 \n",
      "Build Date: Dec  8 2020 \n",
      "\n",
      "command line - cbc temp/0/model_15.lp solve -sec 1500 -solu temp/0/model_15.sol.gz (default strategy 1)\n",
      "Presolve 50 (-2704) rows, 51 (-1326) columns and 1324 (-19063) elements\n",
      "0  Obj 512012.81 Primal inf 8770.9284 (50)\n",
      "50  Obj 957871.29\n",
      "Optimal - objective value 957871.29\n",
      "After Postsolve, objective 957871.29, infeasibilities - dual 0 (0), primal 0 (0)\n",
      "Optimal objective 957871.2879 - 50 iterations time 0.002, Presolve 0.00\n",
      "seconds was changed from 1e+100 to 1500\n",
      "Total time (CPU seconds):       0.01   (Wallclock seconds):       0.02\n",
      "\n",
      "\u001b[33mRemoving temporary output temp/0/model_15.lp.\u001b[0m\n",
      "\u001b[33mSelect jobs to execute...\u001b[0m\n",
      "\u001b[33mRemoving temporary output temp/0/model_15.sol.gz.\u001b[0m\n",
      "\u001b[33mSelect jobs to execute...\u001b[0m\n",
      "\u001b[33mRemoving temporary output temp/0/model_15.txt.\u001b[0m\n",
      "\u001b[33mSelect jobs to execute...\u001b[0m\n",
      "\u001b[33mRemoving temporary output temp/0/model_15.sol.\u001b[0m\n",
      "\u001b[33mSelect jobs to execute...\u001b[0m\n",
      "\u001b[33mSelect jobs to execute...\u001b[0m\n",
      "\u001b[33mSelect jobs to execute...\u001b[0m\n",
      "\u001b[33mSelect jobs to execute...\u001b[0m\n",
      "\u001b[33mRemoving temporary output temp/0/model_29_modex.txt.\u001b[0m\n",
      "\u001b[33mSelect jobs to execute...\u001b[0m\n",
      "\u001b[33mRemoving temporary output temp/0/model_29.lp.gz.\u001b[0m\n",
      "\u001b[33mSelect jobs to execute...\u001b[0m\n",
      "Welcome to the CBC MILP Solver \n",
      "Version: 2.10.5 \n",
      "Build Date: Dec  8 2020 \n",
      "\n",
      "command line - cbc temp/0/model_29.lp solve -sec 1500 -solu temp/0/model_29.sol.gz (default strategy 1)\n",
      "Presolve 50 (-2704) rows, 51 (-1326) columns and 1324 (-19063) elements\n",
      "0  Obj 312993.01 Primal inf 5847.2856 (50)\n",
      "50  Obj 633607.03\n",
      "Optimal - objective value 633607.03\n",
      "After Postsolve, objective 633607.03, infeasibilities - dual 0 (0), primal 0 (0)\n",
      "Optimal objective 633607.0254 - 50 iterations time 0.002, Presolve 0.00\n",
      "seconds was changed from 1e+100 to 1500\n",
      "Total time (CPU seconds):       0.02   (Wallclock seconds):       0.02\n",
      "\n",
      "\u001b[33mRemoving temporary output temp/0/model_29.lp.\u001b[0m\n",
      "\u001b[33mSelect jobs to execute...\u001b[0m\n",
      "\u001b[33mRemoving temporary output temp/0/model_29.sol.gz.\u001b[0m\n",
      "\u001b[33mSelect jobs to execute...\u001b[0m\n",
      "\u001b[33mRemoving temporary output temp/0/model_29.txt.\u001b[0m\n",
      "\u001b[33mSelect jobs to execute...\u001b[0m\n",
      "\u001b[33mRemoving temporary output temp/0/model_29.sol.\u001b[0m\n",
      "\u001b[33mSelect jobs to execute...\u001b[0m\n",
      "\u001b[33mSelect jobs to execute...\u001b[0m\n",
      "\u001b[33mSelect jobs to execute...\u001b[0m\n",
      "\u001b[33mSelect jobs to execute...\u001b[0m\n",
      "\u001b[33mSelect jobs to execute...\u001b[0m\n",
      "\u001b[33mSelect jobs to execute...\u001b[0m\n",
      "\u001b[33mSelect jobs to execute...\u001b[0m\n",
      "\u001b[33mRemoving temporary output temp/0/model_5_modex.txt.\u001b[0m\n",
      "\u001b[33mSelect jobs to execute...\u001b[0m\n",
      "\u001b[33mRemoving temporary output temp/0/model_5.lp.gz.\u001b[0m\n",
      "\u001b[33mSelect jobs to execute...\u001b[0m\n",
      "Welcome to the CBC MILP Solver \n",
      "Version: 2.10.5 \n",
      "Build Date: Dec  8 2020 \n",
      "\n",
      "command line - cbc temp/0/model_5.lp solve -sec 1500 -solu temp/0/model_5.sol.gz (default strategy 1)\n",
      "Presolve 50 (-2704) rows, 51 (-1326) columns and 1325 (-19075) elements\n",
      "0  Obj 481181.42 Primal inf 7762.5608 (50)\n",
      "50  Obj 949963.1\n",
      "Optimal - objective value 949963.1\n",
      "After Postsolve, objective 949963.1, infeasibilities - dual 0 (0), primal 0 (0)\n",
      "Optimal objective 949963.1025 - 50 iterations time 0.002, Presolve 0.00\n",
      "seconds was changed from 1e+100 to 1500\n",
      "Total time (CPU seconds):       0.02   (Wallclock seconds):       0.02\n",
      "\n",
      "\u001b[33mRemoving temporary output temp/0/model_5.lp.\u001b[0m\n",
      "\u001b[33mSelect jobs to execute...\u001b[0m\n",
      "\u001b[33mRemoving temporary output temp/0/model_5.sol.gz.\u001b[0m\n",
      "\u001b[33mSelect jobs to execute...\u001b[0m\n",
      "\u001b[33mRemoving temporary output temp/0/model_5.txt.\u001b[0m\n",
      "\u001b[33mSelect jobs to execute...\u001b[0m\n",
      "\u001b[33mRemoving temporary output temp/0/model_5.sol.\u001b[0m\n",
      "\u001b[33mSelect jobs to execute...\u001b[0m\n",
      "\u001b[33mSelect jobs to execute...\u001b[0m\n",
      "\u001b[33mSelect jobs to execute...\u001b[0m\n",
      "\u001b[33mSelect jobs to execute...\u001b[0m\n",
      "\u001b[33mRemoving temporary output temp/0/model_8_modex.txt.\u001b[0m\n",
      "\u001b[33mSelect jobs to execute...\u001b[0m\n",
      "\u001b[33mRemoving temporary output temp/0/model_8.lp.gz.\u001b[0m\n",
      "\u001b[33mSelect jobs to execute...\u001b[0m\n",
      "Welcome to the CBC MILP Solver \n",
      "Version: 2.10.5 \n",
      "Build Date: Dec  8 2020 \n",
      "\n",
      "command line - cbc temp/0/model_8.lp solve -sec 1500 -solu temp/0/model_8.sol.gz (default strategy 1)\n",
      "Presolve 50 (-2704) rows, 51 (-1326) columns and 1325 (-19075) elements\n",
      "0  Obj 306857.95 Primal inf 5821.9178 (50)\n",
      "50  Obj 583678.96\n",
      "Optimal - objective value 583678.96\n",
      "After Postsolve, objective 583678.96, infeasibilities - dual 0 (0), primal 0 (0)\n",
      "Optimal objective 583678.9632 - 50 iterations time 0.002, Presolve 0.00\n",
      "seconds was changed from 1e+100 to 1500\n",
      "Total time (CPU seconds):       0.01   (Wallclock seconds):       0.02\n",
      "\n",
      "\u001b[33mRemoving temporary output temp/0/model_8.lp.\u001b[0m\n",
      "\u001b[33mSelect jobs to execute...\u001b[0m\n",
      "\u001b[33mRemoving temporary output temp/0/model_8.sol.gz.\u001b[0m\n",
      "\u001b[33mSelect jobs to execute...\u001b[0m\n",
      "\u001b[33mRemoving temporary output temp/0/model_8.txt.\u001b[0m\n",
      "\u001b[33mSelect jobs to execute...\u001b[0m\n",
      "\u001b[33mRemoving temporary output temp/0/model_8.sol.\u001b[0m\n",
      "\u001b[33mSelect jobs to execute...\u001b[0m\n",
      "\u001b[33mSelect jobs to execute...\u001b[0m\n",
      "\u001b[33mSelect jobs to execute...\u001b[0m\n",
      "\u001b[33mSelect jobs to execute...\u001b[0m\n",
      "\u001b[33mSelect jobs to execute...\u001b[0m\n",
      "\u001b[33mSelect jobs to execute...\u001b[0m\n",
      "\u001b[33mRemoving temporary output temp/0/model_22_modex.txt.\u001b[0m\n",
      "\u001b[33mSelect jobs to execute...\u001b[0m\n",
      "\u001b[33mRemoving temporary output temp/0/model_22.lp.gz.\u001b[0m\n",
      "\u001b[33mSelect jobs to execute...\u001b[0m\n",
      "Welcome to the CBC MILP Solver \n",
      "Version: 2.10.5 \n",
      "Build Date: Dec  8 2020 \n",
      "\n",
      "command line - cbc temp/0/model_22.lp solve -sec 1500 -solu temp/0/model_22.sol.gz (default strategy 1)\n",
      "Presolve 50 (-2704) rows, 51 (-1326) columns and 1325 (-19075) elements\n",
      "0  Obj 499129.33 Primal inf 8732.8767 (50)\n",
      "50  Obj 993014.26\n",
      "Optimal - objective value 993014.26\n",
      "After Postsolve, objective 993014.26, infeasibilities - dual 0 (0), primal 0 (0)\n",
      "Optimal objective 993014.2556 - 50 iterations time 0.002, Presolve 0.00\n",
      "seconds was changed from 1e+100 to 1500\n",
      "Total time (CPU seconds):       0.01   (Wallclock seconds):       0.02\n",
      "\n",
      "\u001b[33mRemoving temporary output temp/0/model_22.lp.\u001b[0m\n",
      "\u001b[33mSelect jobs to execute...\u001b[0m\n",
      "\u001b[33mRemoving temporary output temp/0/model_22.sol.gz.\u001b[0m\n",
      "\u001b[33mSelect jobs to execute...\u001b[0m\n",
      "\u001b[33mRemoving temporary output temp/0/model_22.txt.\u001b[0m\n",
      "\u001b[33mSelect jobs to execute...\u001b[0m\n",
      "\u001b[33mRemoving temporary output temp/0/model_22.sol.\u001b[0m\n",
      "\u001b[33mSelect jobs to execute...\u001b[0m\n",
      "\u001b[33mSelect jobs to execute...\u001b[0m\n",
      "\u001b[33mSelect jobs to execute...\u001b[0m\n",
      "\u001b[33mSelect jobs to execute...\u001b[0m\n",
      "\u001b[33mSelect jobs to execute...\u001b[0m\n",
      "\u001b[33mSelect jobs to execute...\u001b[0m\n",
      "\u001b[33mRemoving temporary output temp/0/model_26_modex.txt.\u001b[0m\n",
      "\u001b[33mSelect jobs to execute...\u001b[0m\n",
      "\u001b[33mRemoving temporary output temp/0/model_26.lp.gz.\u001b[0m\n",
      "\u001b[33mSelect jobs to execute...\u001b[0m\n",
      "Welcome to the CBC MILP Solver \n",
      "Version: 2.10.5 \n",
      "Build Date: Dec  8 2020 \n",
      "\n",
      "command line - cbc temp/0/model_26.lp solve -sec 1500 -solu temp/0/model_26.sol.gz (default strategy 1)\n",
      "Presolve 50 (-2704) rows, 51 (-1326) columns and 1324 (-19063) elements\n",
      "0  Obj 368565.53 Primal inf 5847.2856 (50)\n",
      "50  Obj 735930.29\n",
      "Optimal - objective value 735930.29\n",
      "After Postsolve, objective 735930.29, infeasibilities - dual 0 (0), primal 0 (0)\n",
      "Optimal objective 735930.2924 - 50 iterations time 0.002, Presolve 0.00\n",
      "seconds was changed from 1e+100 to 1500\n",
      "Total time (CPU seconds):       0.02   (Wallclock seconds):       0.02\n",
      "\n",
      "\u001b[33mRemoving temporary output temp/0/model_26.lp.\u001b[0m\n",
      "\u001b[33mSelect jobs to execute...\u001b[0m\n",
      "\u001b[33mRemoving temporary output temp/0/model_26.sol.gz.\u001b[0m\n",
      "\u001b[33mSelect jobs to execute...\u001b[0m\n",
      "\u001b[33mRemoving temporary output temp/0/model_26.txt.\u001b[0m\n",
      "\u001b[33mSelect jobs to execute...\u001b[0m\n",
      "\u001b[33mRemoving temporary output temp/0/model_26.sol.\u001b[0m\n",
      "\u001b[33mSelect jobs to execute...\u001b[0m\n",
      "\u001b[33mSelect jobs to execute...\u001b[0m\n",
      "\u001b[33mSelect jobs to execute...\u001b[0m\n",
      "\u001b[33mSelect jobs to execute...\u001b[0m\n",
      "\u001b[33mSelect jobs to execute...\u001b[0m\n",
      "\u001b[33mRemoving temporary output temp/0/model_12_modex.txt.\u001b[0m\n",
      "\u001b[33mSelect jobs to execute...\u001b[0m\n",
      "\u001b[33mRemoving temporary output temp/0/model_12.lp.gz.\u001b[0m\n",
      "\u001b[33mSelect jobs to execute...\u001b[0m\n",
      "Welcome to the CBC MILP Solver \n",
      "Version: 2.10.5 \n",
      "Build Date: Dec  8 2020 \n",
      "\n",
      "command line - cbc temp/0/model_12.lp solve -sec 1500 -solu temp/0/model_12.sol.gz (default strategy 1)\n",
      "Presolve 50 (-2704) rows, 51 (-1326) columns and 1325 (-19075) elements\n",
      "0  Obj 445801.49 Primal inf 8732.8767 (50)\n",
      "50  Obj 865082.7\n",
      "Optimal - objective value 865082.7\n",
      "After Postsolve, objective 865082.7, infeasibilities - dual 0 (0), primal 0 (0)\n",
      "Optimal objective 865082.6983 - 50 iterations time 0.012, Presolve 0.01\n",
      "seconds was changed from 1e+100 to 1500\n",
      "Total time (CPU seconds):       0.02   (Wallclock seconds):       0.02\n",
      "\n",
      "\u001b[33mRemoving temporary output temp/0/model_12.lp.\u001b[0m\n",
      "\u001b[33mSelect jobs to execute...\u001b[0m\n",
      "\u001b[33mRemoving temporary output temp/0/model_12.sol.gz.\u001b[0m\n",
      "\u001b[33mSelect jobs to execute...\u001b[0m\n",
      "\u001b[33mRemoving temporary output temp/0/model_12.txt.\u001b[0m\n",
      "\u001b[33mSelect jobs to execute...\u001b[0m\n",
      "\u001b[33mRemoving temporary output temp/0/model_12.sol.\u001b[0m\n",
      "\u001b[33mSelect jobs to execute...\u001b[0m\n",
      "\u001b[33mSelect jobs to execute...\u001b[0m\n",
      "\u001b[33mSelect jobs to execute...\u001b[0m\n",
      "\u001b[33mSelect jobs to execute...\u001b[0m\n",
      "\u001b[33mSelect jobs to execute...\u001b[0m\n",
      "\u001b[33mSelect jobs to execute...\u001b[0m\n",
      "\u001b[33mSelect jobs to execute...\u001b[0m\n",
      "\u001b[33mRemoving temporary output temp/0/model_2_modex.txt.\u001b[0m\n",
      "\u001b[33mSelect jobs to execute...\u001b[0m\n",
      "\u001b[33mRemoving temporary output temp/0/model_2.lp.gz.\u001b[0m\n",
      "\u001b[33mSelect jobs to execute...\u001b[0m\n",
      "Welcome to the CBC MILP Solver \n",
      "Version: 2.10.5 \n",
      "Build Date: Dec  8 2020 \n",
      "\n",
      "command line - cbc temp/0/model_2.lp solve -sec 1500 -solu temp/0/model_2.sol.gz (default strategy 1)\n",
      "Presolve 50 (-2704) rows, 51 (-1326) columns and 1325 (-19075) elements\n",
      "0  Obj 338008.02 Primal inf 5821.9178 (50)\n",
      "50  Obj 680240.75\n",
      "Optimal - objective value 680240.75\n",
      "After Postsolve, objective 680240.75, infeasibilities - dual 0 (0), primal 0 (0)\n",
      "Optimal objective 680240.7516 - 50 iterations time 0.002, Presolve 0.00\n",
      "seconds was changed from 1e+100 to 1500\n",
      "Total time (CPU seconds):       0.02   (Wallclock seconds):       0.02\n",
      "\n",
      "\u001b[33mRemoving temporary output temp/0/model_2.lp.\u001b[0m\n",
      "\u001b[33mSelect jobs to execute...\u001b[0m\n",
      "\u001b[33mRemoving temporary output temp/0/model_2.sol.gz.\u001b[0m\n",
      "\u001b[33mSelect jobs to execute...\u001b[0m\n",
      "\u001b[33mRemoving temporary output temp/0/model_2.txt.\u001b[0m\n",
      "\u001b[33mSelect jobs to execute...\u001b[0m\n",
      "\u001b[33mRemoving temporary output temp/0/model_2.sol.\u001b[0m\n",
      "\u001b[33mSelect jobs to execute...\u001b[0m\n",
      "\u001b[33mSelect jobs to execute...\u001b[0m\n",
      "\u001b[33mSelect jobs to execute...\u001b[0m\n",
      "\u001b[33mSelect jobs to execute...\u001b[0m\n",
      "\u001b[33mRemoving temporary output temp/0/model_19_modex.txt.\u001b[0m\n",
      "\u001b[33mSelect jobs to execute...\u001b[0m\n",
      "\u001b[33mRemoving temporary output temp/0/model_19.lp.gz.\u001b[0m\n",
      "\u001b[33mSelect jobs to execute...\u001b[0m\n",
      "Welcome to the CBC MILP Solver \n",
      "Version: 2.10.5 \n",
      "Build Date: Dec  8 2020 \n",
      "\n",
      "command line - cbc temp/0/model_19.lp solve -sec 1500 -solu temp/0/model_19.sol.gz (default strategy 1)\n",
      "Presolve 50 (-2704) rows, 51 (-1326) columns and 1325 (-19075) elements\n",
      "0  Obj 367283.5 Primal inf 6792.2326 (50)\n",
      "50  Obj 690442.9\n",
      "Optimal - objective value 690442.9\n",
      "After Postsolve, objective 690442.9, infeasibilities - dual 0 (0), primal 0 (0)\n",
      "Optimal objective 690442.9012 - 50 iterations time 0.012, Presolve 0.01\n",
      "seconds was changed from 1e+100 to 1500\n",
      "Total time (CPU seconds):       0.02   (Wallclock seconds):       0.02\n",
      "\n",
      "\u001b[33mRemoving temporary output temp/0/model_19.lp.\u001b[0m\n",
      "\u001b[33mSelect jobs to execute...\u001b[0m\n",
      "\u001b[33mRemoving temporary output temp/0/model_19.sol.gz.\u001b[0m\n",
      "\u001b[33mSelect jobs to execute...\u001b[0m\n",
      "\u001b[33mRemoving temporary output temp/0/model_19.txt.\u001b[0m\n",
      "\u001b[33mSelect jobs to execute...\u001b[0m\n",
      "\u001b[33mRemoving temporary output temp/0/model_19.sol.\u001b[0m\n",
      "\u001b[33mSelect jobs to execute...\u001b[0m\n",
      "\u001b[33mSelect jobs to execute...\u001b[0m\n",
      "\u001b[33mSelect jobs to execute...\u001b[0m\n",
      "\u001b[33mSelect jobs to execute...\u001b[0m\n",
      "\u001b[33mSelect jobs to execute...\u001b[0m\n",
      "\u001b[33mRemoving temporary output temp/0/model_0_modex.txt.\u001b[0m\n",
      "\u001b[33mSelect jobs to execute...\u001b[0m\n",
      "\u001b[33mRemoving temporary output temp/0/model_0.lp.gz.\u001b[0m\n",
      "\u001b[33mSelect jobs to execute...\u001b[0m\n",
      "Welcome to the CBC MILP Solver \n",
      "Version: 2.10.5 \n",
      "Build Date: Dec  8 2020 \n",
      "\n",
      "command line - cbc temp/0/model_0.lp solve -sec 1500 -solu temp/0/model_0.sol.gz (default strategy 1)\n",
      "Presolve 50 (-2704) rows, 51 (-1326) columns and 1325 (-19075) elements\n",
      "0  Obj 305271.38 Primal inf 5821.9178 (50)\n",
      "50  Obj 603896.08\n",
      "Optimal - objective value 603896.08\n",
      "After Postsolve, objective 603896.08, infeasibilities - dual 0 (0), primal 0 (0)\n",
      "Optimal objective 603896.0847 - 50 iterations time 0.012, Presolve 0.01\n",
      "seconds was changed from 1e+100 to 1500\n",
      "Total time (CPU seconds):       0.02   (Wallclock seconds):       0.03\n",
      "\n",
      "\u001b[33mRemoving temporary output temp/0/model_0.lp.\u001b[0m\n",
      "\u001b[33mSelect jobs to execute...\u001b[0m\n",
      "\u001b[33mRemoving temporary output temp/0/model_0.sol.gz.\u001b[0m\n",
      "\u001b[33mSelect jobs to execute...\u001b[0m\n",
      "\u001b[33mRemoving temporary output temp/0/model_0.txt.\u001b[0m\n",
      "\u001b[33mSelect jobs to execute...\u001b[0m\n",
      "\u001b[33mRemoving temporary output temp/0/model_0.sol.\u001b[0m\n",
      "\u001b[33mSelect jobs to execute...\u001b[0m\n",
      "\u001b[33mSelect jobs to execute...\u001b[0m\n",
      "\u001b[33mSelect jobs to execute...\u001b[0m\n",
      "\u001b[33mSelect jobs to execute...\u001b[0m\n",
      "\u001b[33mRemoving temporary output temp/0/model_28_modex.txt.\u001b[0m\n",
      "\u001b[33mSelect jobs to execute...\u001b[0m\n",
      "\u001b[33mRemoving temporary output temp/0/model_28.lp.gz.\u001b[0m\n",
      "\u001b[33mSelect jobs to execute...\u001b[0m\n",
      "Welcome to the CBC MILP Solver \n",
      "Version: 2.10.5 \n",
      "Build Date: Dec  8 2020 \n",
      "\n",
      "command line - cbc temp/0/model_28.lp solve -sec 1500 -solu temp/0/model_28.sol.gz (default strategy 1)\n",
      "Presolve 50 (-2704) rows, 51 (-1326) columns and 1324 (-19063) elements\n",
      "0  Obj 331142.2 Primal inf 5847.2856 (50)\n",
      "50  Obj 698506.97\n",
      "Optimal - objective value 698506.97\n",
      "After Postsolve, objective 698506.97, infeasibilities - dual 0 (0), primal 0 (0)\n",
      "Optimal objective 698506.9681 - 50 iterations time 0.012, Presolve 0.00\n",
      "seconds was changed from 1e+100 to 1500\n",
      "Total time (CPU seconds):       0.02   (Wallclock seconds):       0.02\n",
      "\n",
      "\u001b[33mRemoving temporary output temp/0/model_28.lp.\u001b[0m\n",
      "\u001b[33mSelect jobs to execute...\u001b[0m\n",
      "\u001b[33mRemoving temporary output temp/0/model_28.sol.gz.\u001b[0m\n",
      "\u001b[33mSelect jobs to execute...\u001b[0m\n",
      "\u001b[33mRemoving temporary output temp/0/model_28.txt.\u001b[0m\n",
      "\u001b[33mSelect jobs to execute...\u001b[0m\n",
      "\u001b[33mRemoving temporary output temp/0/model_28.sol.\u001b[0m\n",
      "\u001b[33mSelect jobs to execute...\u001b[0m\n",
      "\u001b[33mSelect jobs to execute...\u001b[0m\n",
      "\u001b[33mSelect jobs to execute...\u001b[0m\n",
      "\u001b[33mSelect jobs to execute...\u001b[0m\n",
      "\u001b[33mSelect jobs to execute...\u001b[0m\n",
      "\u001b[33mSelect jobs to execute...\u001b[0m\n",
      "\u001b[33mSelect jobs to execute...\u001b[0m\n",
      "\u001b[33mSelect jobs to execute...\u001b[0m\n",
      "\u001b[33mSelect jobs to execute...\u001b[0m\n",
      "\u001b[33mRemoving temporary output temp/0/model_4_modex.txt.\u001b[0m\n",
      "\u001b[33mSelect jobs to execute...\u001b[0m\n",
      "\u001b[33mRemoving temporary output temp/0/model_4.lp.gz.\u001b[0m\n",
      "\u001b[33mSelect jobs to execute...\u001b[0m\n",
      "Welcome to the CBC MILP Solver \n",
      "Version: 2.10.5 \n",
      "Build Date: Dec  8 2020 \n",
      "\n",
      "command line - cbc temp/0/model_4.lp solve -sec 1500 -solu temp/0/model_4.sol.gz (default strategy 1)\n",
      "Presolve 50 (-2704) rows, 51 (-1326) columns and 1325 (-19075) elements\n",
      "0  Obj 476131.71 Primal inf 7762.5608 (50)\n",
      "50  Obj 932442.09\n",
      "Optimal - objective value 932442.09\n",
      "After Postsolve, objective 932442.09, infeasibilities - dual 0 (0), primal 0 (0)\n",
      "Optimal objective 932442.0855 - 50 iterations time 0.012, Presolve 0.00\n",
      "seconds was changed from 1e+100 to 1500\n",
      "Total time (CPU seconds):       0.02   (Wallclock seconds):       0.02\n",
      "\n",
      "\u001b[33mRemoving temporary output temp/0/model_4.lp.\u001b[0m\n",
      "\u001b[33mSelect jobs to execute...\u001b[0m\n",
      "\u001b[33mRemoving temporary output temp/0/model_4.sol.gz.\u001b[0m\n",
      "\u001b[33mSelect jobs to execute...\u001b[0m\n",
      "\u001b[33mRemoving temporary output temp/0/model_4.txt.\u001b[0m\n",
      "\u001b[33mSelect jobs to execute...\u001b[0m\n",
      "\u001b[33mRemoving temporary output temp/0/model_4.sol.\u001b[0m\n",
      "\u001b[33mSelect jobs to execute...\u001b[0m\n",
      "\u001b[33mSelect jobs to execute...\u001b[0m\n",
      "\u001b[33mSelect jobs to execute...\u001b[0m\n",
      "\u001b[33mRemoving temporary output temp/0/model_21_modex.txt.\u001b[0m\n",
      "\u001b[33mSelect jobs to execute...\u001b[0m\n",
      "\u001b[33mRemoving temporary output temp/0/model_21.lp.gz.\u001b[0m\n",
      "\u001b[33mSelect jobs to execute...\u001b[0m\n",
      "Welcome to the CBC MILP Solver \n",
      "Version: 2.10.5 \n",
      "Build Date: Dec  8 2020 \n",
      "\n",
      "command line - cbc temp/0/model_21.lp solve -sec 1500 -solu temp/0/model_21.sol.gz (default strategy 1)\n",
      "Presolve 50 (-2704) rows, 51 (-1326) columns and 1325 (-19075) elements\n",
      "0  Obj 493827.15 Primal inf 8732.8767 (50)\n",
      "50  Obj 974730.36\n",
      "Optimal - objective value 974730.36\n",
      "After Postsolve, objective 974730.36, infeasibilities - dual 0 (0), primal 0 (0)\n",
      "Optimal objective 974730.3636 - 50 iterations time 0.012, Presolve 0.01\n",
      "seconds was changed from 1e+100 to 1500\n",
      "Total time (CPU seconds):       0.03   (Wallclock seconds):       0.03\n",
      "\n",
      "\u001b[33mRemoving temporary output temp/0/model_21.lp.\u001b[0m\n",
      "\u001b[33mSelect jobs to execute...\u001b[0m\n",
      "\u001b[33mRemoving temporary output temp/0/model_21.sol.gz.\u001b[0m\n",
      "\u001b[33mSelect jobs to execute...\u001b[0m\n",
      "\u001b[33mRemoving temporary output temp/0/model_21.txt.\u001b[0m\n",
      "\u001b[33mSelect jobs to execute...\u001b[0m\n",
      "\u001b[33mRemoving temporary output temp/0/model_21.sol.\u001b[0m\n",
      "\u001b[33mSelect jobs to execute...\u001b[0m\n",
      "\u001b[33mSelect jobs to execute...\u001b[0m\n",
      "\u001b[33mSelect jobs to execute...\u001b[0m\n",
      "\u001b[33mRemoving temporary output temp/0/model_1_modex.txt.\u001b[0m\n",
      "\u001b[33mSelect jobs to execute...\u001b[0m\n",
      "\u001b[33mRemoving temporary output temp/0/model_1.lp.gz.\u001b[0m\n",
      "\u001b[33mSelect jobs to execute...\u001b[0m\n",
      "Welcome to the CBC MILP Solver \n",
      "Version: 2.10.5 \n",
      "Build Date: Dec  8 2020 \n",
      "\n",
      "command line - cbc temp/0/model_1.lp solve -sec 1500 -solu temp/0/model_1.sol.gz (default strategy 1)\n",
      "Presolve 50 (-2704) rows, 51 (-1326) columns and 1325 (-19075) elements\n",
      "0  Obj 319674.81 Primal inf 5821.9178 (50)\n",
      "50  Obj 661907.53\n",
      "Optimal - objective value 661907.53\n",
      "After Postsolve, objective 661907.53, infeasibilities - dual 0 (0), primal 0 (0)\n",
      "Optimal objective 661907.5349 - 50 iterations time 0.002, Presolve 0.00\n",
      "seconds was changed from 1e+100 to 1500\n",
      "Total time (CPU seconds):       0.02   (Wallclock seconds):       0.03\n",
      "\n",
      "\u001b[33mRemoving temporary output temp/0/model_1.lp.\u001b[0m\n",
      "\u001b[33mSelect jobs to execute...\u001b[0m\n",
      "\u001b[33mRemoving temporary output temp/0/model_1.sol.gz.\u001b[0m\n",
      "\u001b[33mSelect jobs to execute...\u001b[0m\n",
      "\u001b[33mRemoving temporary output temp/0/model_1.txt.\u001b[0m\n",
      "\u001b[33mSelect jobs to execute...\u001b[0m\n",
      "\u001b[33mRemoving temporary output temp/0/model_1.sol.\u001b[0m\n",
      "\u001b[33mSelect jobs to execute...\u001b[0m\n",
      "\u001b[33mSelect jobs to execute...\u001b[0m\n",
      "\u001b[33mSelect jobs to execute...\u001b[0m\n",
      "\u001b[33mRemoving temporary output temp/0/model_18_modex.txt.\u001b[0m\n",
      "\u001b[33mSelect jobs to execute...\u001b[0m\n",
      "\u001b[33mRemoving temporary output temp/0/model_18.lp.gz.\u001b[0m\n",
      "\u001b[33mSelect jobs to execute...\u001b[0m\n",
      "Welcome to the CBC MILP Solver \n",
      "Version: 2.10.5 \n",
      "Build Date: Dec  8 2020 \n",
      "\n",
      "command line - cbc temp/0/model_18.lp solve -sec 1500 -solu temp/0/model_18.sol.gz (default strategy 1)\n",
      "Presolve 50 (-2704) rows, 51 (-1326) columns and 1325 (-19075) elements\n",
      "0  Obj 390695.01 Primal inf 6792.2326 (50)\n",
      "50  Obj 713854.41\n",
      "Optimal - objective value 713854.41\n",
      "After Postsolve, objective 713854.41, infeasibilities - dual 0 (0), primal 0 (0)\n",
      "Optimal objective 713854.4059 - 50 iterations time 0.012, Presolve 0.01\n",
      "seconds was changed from 1e+100 to 1500\n",
      "Total time (CPU seconds):       0.03   (Wallclock seconds):       0.03\n",
      "\n",
      "\u001b[33mRemoving temporary output temp/0/model_18.lp.\u001b[0m\n",
      "\u001b[33mSelect jobs to execute...\u001b[0m\n",
      "\u001b[33mRemoving temporary output temp/0/model_18.sol.gz.\u001b[0m\n",
      "\u001b[33mSelect jobs to execute...\u001b[0m\n",
      "\u001b[33mRemoving temporary output temp/0/model_18.txt.\u001b[0m\n",
      "\u001b[33mSelect jobs to execute...\u001b[0m\n",
      "\u001b[33mRemoving temporary output temp/0/model_18.sol.\u001b[0m\n",
      "\u001b[33mSelect jobs to execute...\u001b[0m\n",
      "\u001b[33mSelect jobs to execute...\u001b[0m\n",
      "\u001b[33mSelect jobs to execute...\u001b[0m\n",
      "\u001b[33mRemoving temporary output temp/0/model_16_modex.txt.\u001b[0m\n",
      "\u001b[33mSelect jobs to execute...\u001b[0m\n",
      "\u001b[33mRemoving temporary output temp/0/model_16.lp.gz.\u001b[0m\n",
      "\u001b[33mSelect jobs to execute...\u001b[0m\n",
      "Welcome to the CBC MILP Solver \n",
      "Version: 2.10.5 \n",
      "Build Date: Dec  8 2020 \n",
      "\n",
      "command line - cbc temp/0/model_16.lp solve -sec 1500 -solu temp/0/model_16.sol.gz (default strategy 1)\n",
      "Presolve 50 (-2704) rows, 51 (-1326) columns and 1324 (-19063) elements\n",
      "0  Obj 539236.59 Primal inf 8770.9284 (50)\n",
      "50  Obj 1055221.2\n",
      "Optimal - objective value 1055221.2\n",
      "After Postsolve, objective 1055221.2, infeasibilities - dual 0 (0), primal 0 (0)\n",
      "Optimal objective 1055221.202 - 50 iterations time 0.012, Presolve 0.01\n",
      "seconds was changed from 1e+100 to 1500\n",
      "Total time (CPU seconds):       0.01   (Wallclock seconds):       0.03\n",
      "\n",
      "\u001b[33mRemoving temporary output temp/0/model_16.lp.\u001b[0m\n",
      "\u001b[33mSelect jobs to execute...\u001b[0m\n",
      "\u001b[33mRemoving temporary output temp/0/model_16.sol.gz.\u001b[0m\n",
      "\u001b[33mSelect jobs to execute...\u001b[0m\n",
      "\u001b[33mRemoving temporary output temp/0/model_16.txt.\u001b[0m\n",
      "\u001b[33mSelect jobs to execute...\u001b[0m\n",
      "\u001b[33mRemoving temporary output temp/0/model_16.sol.\u001b[0m\n",
      "\u001b[33mSelect jobs to execute...\u001b[0m\n",
      "\u001b[33mSelect jobs to execute...\u001b[0m\n",
      "\u001b[33mSelect jobs to execute...\u001b[0m\n",
      "\u001b[33mSelect jobs to execute...\u001b[0m\n",
      "\u001b[33mRemoving temporary output temp/0/model_17_modex.txt.\u001b[0m\n",
      "\u001b[33mSelect jobs to execute...\u001b[0m\n",
      "\u001b[33mRemoving temporary output temp/0/model_17.lp.gz.\u001b[0m\n",
      "\u001b[33mSelect jobs to execute...\u001b[0m\n",
      "Welcome to the CBC MILP Solver \n",
      "Version: 2.10.5 \n",
      "Build Date: Dec  8 2020 \n",
      "\n",
      "command line - cbc temp/0/model_17.lp solve -sec 1500 -solu temp/0/model_17.sol.gz (default strategy 1)\n",
      "Presolve 50 (-2704) rows, 51 (-1326) columns and 1324 (-19063) elements\n",
      "0  Obj 419405.91 Primal inf 6821.8284 (50)\n",
      "50  Obj 820726.79\n",
      "Optimal - objective value 820726.79\n",
      "After Postsolve, objective 820726.79, infeasibilities - dual 0 (0), primal 0 (0)\n",
      "Optimal objective 820726.7876 - 50 iterations time 0.012, Presolve 0.01\n",
      "seconds was changed from 1e+100 to 1500\n",
      "Total time (CPU seconds):       0.02   (Wallclock seconds):       0.03\n",
      "\n",
      "\u001b[33mRemoving temporary output temp/0/model_17.lp.\u001b[0m\n",
      "\u001b[33mSelect jobs to execute...\u001b[0m\n",
      "\u001b[33mRemoving temporary output temp/0/model_17.sol.gz.\u001b[0m\n",
      "\u001b[33mSelect jobs to execute...\u001b[0m\n",
      "\u001b[33mRemoving temporary output temp/0/model_17.txt.\u001b[0m\n",
      "\u001b[33mSelect jobs to execute...\u001b[0m\n",
      "\u001b[33mRemoving temporary output temp/0/model_17.sol.\u001b[0m\n",
      "\u001b[33mSelect jobs to execute...\u001b[0m\n",
      "\u001b[33mSelect jobs to execute...\u001b[0m\n",
      "\u001b[33mSelect jobs to execute...\u001b[0m\n",
      "\u001b[33mSelect jobs to execute...\u001b[0m\n",
      "\u001b[33mSelect jobs to execute...\u001b[0m\n",
      "\u001b[33mRemoving temporary output temp/0/model_24_modex.txt.\u001b[0m\n",
      "\u001b[33mSelect jobs to execute...\u001b[0m\n",
      "\u001b[33mRemoving temporary output temp/0/model_24.lp.gz.\u001b[0m\n",
      "\u001b[33mSelect jobs to execute...\u001b[0m\n",
      "Welcome to the CBC MILP Solver \n",
      "Version: 2.10.5 \n",
      "Build Date: Dec  8 2020 \n",
      "\n",
      "command line - cbc temp/0/model_24.lp solve -sec 1500 -solu temp/0/model_24.sol.gz (default strategy 1)\n",
      "Presolve 50 (-2704) rows, 51 (-1326) columns and 1325 (-19075) elements\n",
      "0  Obj 480168.09 Primal inf 7762.5608 (50)\n",
      "50  Obj 939533.55\n",
      "Optimal - objective value 939533.55\n",
      "After Postsolve, objective 939533.55, infeasibilities - dual 0 (0), primal 0 (0)\n",
      "Optimal objective 939533.554 - 50 iterations time 0.002, Presolve 0.00\n",
      "seconds was changed from 1e+100 to 1500\n",
      "Total time (CPU seconds):       0.02   (Wallclock seconds):       0.03\n",
      "\n",
      "\u001b[33mRemoving temporary output temp/0/model_24.lp.\u001b[0m\n",
      "\u001b[33mSelect jobs to execute...\u001b[0m\n",
      "\u001b[33mRemoving temporary output temp/0/model_24.sol.gz.\u001b[0m\n",
      "\u001b[33mSelect jobs to execute...\u001b[0m\n",
      "\u001b[33mRemoving temporary output temp/0/model_24.txt.\u001b[0m\n",
      "\u001b[33mSelect jobs to execute...\u001b[0m\n",
      "\u001b[33mRemoving temporary output temp/0/model_24.sol.\u001b[0m\n",
      "\u001b[33mSelect jobs to execute...\u001b[0m\n",
      "\u001b[33mSelect jobs to execute...\u001b[0m\n",
      "\u001b[33mSelect jobs to execute...\u001b[0m\n",
      "\u001b[33mSelect jobs to execute...\u001b[0m\n",
      "\u001b[33mRemoving temporary output temp/0/model_10_modex.txt.\u001b[0m\n",
      "\u001b[33mSelect jobs to execute...\u001b[0m\n",
      "\u001b[33mRemoving temporary output temp/0/model_10.lp.gz.\u001b[0m\n",
      "\u001b[33mSelect jobs to execute...\u001b[0m\n",
      "Welcome to the CBC MILP Solver \n",
      "Version: 2.10.5 \n",
      "Build Date: Dec  8 2020 \n",
      "\n",
      "command line - cbc temp/0/model_10.lp solve -sec 1500 -solu temp/0/model_10.sol.gz (default strategy 1)\n",
      "Presolve 50 (-2704) rows, 51 (-1326) columns and 1325 (-19075) elements\n",
      "0  Obj 292421.45 Primal inf 5821.9178 (50)\n",
      "50  Obj 576498.91\n",
      "Optimal - objective value 576498.91\n",
      "After Postsolve, objective 576498.91, infeasibilities - dual 0 (0), primal 0 (0)\n",
      "Optimal objective 576498.907 - 50 iterations time 0.012, Presolve 0.01\n",
      "seconds was changed from 1e+100 to 1500\n",
      "Total time (CPU seconds):       0.02   (Wallclock seconds):       0.03\n",
      "\n",
      "\u001b[33mRemoving temporary output temp/0/model_10.lp.\u001b[0m\n",
      "\u001b[33mSelect jobs to execute...\u001b[0m\n",
      "\u001b[33mRemoving temporary output temp/0/model_10.sol.gz.\u001b[0m\n",
      "\u001b[33mSelect jobs to execute...\u001b[0m\n",
      "\u001b[33mRemoving temporary output temp/0/model_10.txt.\u001b[0m\n",
      "\u001b[33mSelect jobs to execute...\u001b[0m\n",
      "\u001b[33mRemoving temporary output temp/0/model_10.sol.\u001b[0m\n",
      "\u001b[33mSelect jobs to execute...\u001b[0m\n",
      "\u001b[33mSelect jobs to execute...\u001b[0m\n",
      "\u001b[33mSelect jobs to execute...\u001b[0m\n",
      "\u001b[33mSelect jobs to execute...\u001b[0m\n",
      "\u001b[33mSelect jobs to execute...\u001b[0m\n",
      "\u001b[33mSelect jobs to execute...\u001b[0m\n",
      "\u001b[33mSelect jobs to execute...\u001b[0m\n",
      "\u001b[33mSelect jobs to execute...\u001b[0m\n",
      "\u001b[33mRemoving temporary output temp/0/model_23_modex.txt.\u001b[0m\n",
      "\u001b[33mSelect jobs to execute...\u001b[0m\n",
      "\u001b[33mRemoving temporary output temp/0/model_23.lp.gz.\u001b[0m\n",
      "\u001b[33mSelect jobs to execute...\u001b[0m\n",
      "Welcome to the CBC MILP Solver \n",
      "Version: 2.10.5 \n",
      "Build Date: Dec  8 2020 \n",
      "\n",
      "command line - cbc temp/0/model_23.lp solve -sec 1500 -solu temp/0/model_23.sol.gz (default strategy 1)\n",
      "Presolve 50 (-2704) rows, 51 (-1326) columns and 1325 (-19075) elements\n",
      "0  Obj 473094.88 Primal inf 8732.8767 (50)\n",
      "50  Obj 966979.81\n",
      "Optimal - objective value 966979.81\n",
      "After Postsolve, objective 966979.81, infeasibilities - dual 0 (0), primal 0 (0)\n",
      "Optimal objective 966979.8066 - 50 iterations time 0.002, Presolve 0.00\n",
      "seconds was changed from 1e+100 to 1500\n",
      "Total time (CPU seconds):       0.02   (Wallclock seconds):       0.02\n",
      "\n",
      "\u001b[33mRemoving temporary output temp/0/model_23.lp.\u001b[0m\n",
      "\u001b[33mSelect jobs to execute...\u001b[0m\n",
      "\u001b[33mRemoving temporary output temp/0/model_23.sol.gz.\u001b[0m\n",
      "\u001b[33mSelect jobs to execute...\u001b[0m\n",
      "\u001b[33mRemoving temporary output temp/0/model_23.txt.\u001b[0m\n",
      "\u001b[33mSelect jobs to execute...\u001b[0m\n",
      "\u001b[33mRemoving temporary output temp/0/model_23.sol.\u001b[0m\n",
      "\u001b[33mSelect jobs to execute...\u001b[0m\n",
      "\u001b[33mSelect jobs to execute...\u001b[0m\n",
      "\u001b[33mSelect jobs to execute...\u001b[0m\n",
      "\u001b[33mSelect jobs to execute...\u001b[0m\n",
      "\u001b[33mRemoving temporary output temp/0/model_9_modex.txt.\u001b[0m\n",
      "\u001b[33mSelect jobs to execute...\u001b[0m\n",
      "\u001b[33mRemoving temporary output temp/0/model_9.lp.gz.\u001b[0m\n",
      "\u001b[33mSelect jobs to execute...\u001b[0m\n",
      "Welcome to the CBC MILP Solver \n",
      "Version: 2.10.5 \n",
      "Build Date: Dec  8 2020 \n",
      "\n",
      "command line - cbc temp/0/model_9.lp solve -sec 1500 -solu temp/0/model_9.sol.gz (default strategy 1)\n",
      "Presolve 50 (-2704) rows, 51 (-1326) columns and 1325 (-19075) elements\n",
      "0  Obj 309887.77 Primal inf 5821.9178 (50)\n",
      "50  Obj 593965.22\n",
      "Optimal - objective value 593965.22\n",
      "After Postsolve, objective 593965.22, infeasibilities - dual 0 (0), primal 0 (0)\n",
      "Optimal objective 593965.2194 - 50 iterations time 0.012, Presolve 0.01\n",
      "seconds was changed from 1e+100 to 1500\n",
      "Total time (CPU seconds):       0.02   (Wallclock seconds):       0.02\n",
      "\n",
      "\u001b[33mRemoving temporary output temp/0/model_9.lp.\u001b[0m\n",
      "\u001b[33mSelect jobs to execute...\u001b[0m\n",
      "\u001b[33mRemoving temporary output temp/0/model_9.sol.gz.\u001b[0m\n",
      "\u001b[33mSelect jobs to execute...\u001b[0m\n",
      "\u001b[33mRemoving temporary output temp/0/model_9.txt.\u001b[0m\n",
      "\u001b[33mSelect jobs to execute...\u001b[0m\n",
      "\u001b[33mRemoving temporary output temp/0/model_9.sol.\u001b[0m\n",
      "\u001b[33mSelect jobs to execute...\u001b[0m\n",
      "\u001b[33mSelect jobs to execute...\u001b[0m\n",
      "\u001b[33mSelect jobs to execute...\u001b[0m\n",
      "\u001b[33mRemoving temporary output temp/0/model_6_modex.txt.\u001b[0m\n",
      "\u001b[33mSelect jobs to execute...\u001b[0m\n",
      "\u001b[33mRemoving temporary output temp/0/model_6.lp.gz.\u001b[0m\n",
      "\u001b[33mSelect jobs to execute...\u001b[0m\n",
      "Welcome to the CBC MILP Solver \n",
      "Version: 2.10.5 \n",
      "Build Date: Dec  8 2020 \n",
      "\n",
      "command line - cbc temp/0/model_6.lp solve -sec 1500 -solu temp/0/model_6.sol.gz (default strategy 1)\n",
      "Presolve 50 (-2704) rows, 51 (-1326) columns and 1325 (-19075) elements\n",
      "0  Obj 434598.18 Primal inf 7762.5608 (50)\n",
      "50  Obj 803692.91\n",
      "Optimal - objective value 803692.91\n",
      "After Postsolve, objective 803692.91, infeasibilities - dual 0 (0), primal 0 (0)\n",
      "Optimal objective 803692.9108 - 50 iterations time 0.012, Presolve 0.01\n",
      "seconds was changed from 1e+100 to 1500\n",
      "Total time (CPU seconds):       0.02   (Wallclock seconds):       0.03\n",
      "\n",
      "\u001b[33mRemoving temporary output temp/0/model_6.lp.\u001b[0m\n",
      "\u001b[33mSelect jobs to execute...\u001b[0m\n",
      "\u001b[33mRemoving temporary output temp/0/model_6.sol.gz.\u001b[0m\n",
      "\u001b[33mSelect jobs to execute...\u001b[0m\n",
      "\u001b[33mRemoving temporary output temp/0/model_6.txt.\u001b[0m\n",
      "\u001b[33mSelect jobs to execute...\u001b[0m\n",
      "\u001b[33mRemoving temporary output temp/0/model_6.sol.\u001b[0m\n",
      "\u001b[33mSelect jobs to execute...\u001b[0m\n",
      "\u001b[33mSelect jobs to execute...\u001b[0m\n",
      "\u001b[33mSelect jobs to execute...\u001b[0m\n",
      "\u001b[33mSelect jobs to execute...\u001b[0m\n",
      "\u001b[33mRemoving temporary output temp/0/model_7_modex.txt.\u001b[0m\n",
      "\u001b[33mSelect jobs to execute...\u001b[0m\n",
      "\u001b[33mRemoving temporary output temp/0/model_7.lp.gz.\u001b[0m\n",
      "\u001b[33mSelect jobs to execute...\u001b[0m\n",
      "Welcome to the CBC MILP Solver \n",
      "Version: 2.10.5 \n",
      "Build Date: Dec  8 2020 \n",
      "\n",
      "command line - cbc temp/0/model_7.lp solve -sec 1500 -solu temp/0/model_7.sol.gz (default strategy 1)\n",
      "Presolve 50 (-2704) rows, 51 (-1326) columns and 1325 (-19075) elements\n",
      "0  Obj 409144.68 Primal inf 7762.5608 (50)\n",
      "50  Obj 778239.41\n",
      "Optimal - objective value 778239.41\n",
      "After Postsolve, objective 778239.41, infeasibilities - dual 0 (0), primal 0 (0)\n",
      "Optimal objective 778239.4079 - 50 iterations time 0.012, Presolve 0.01\n",
      "seconds was changed from 1e+100 to 1500\n",
      "Total time (CPU seconds):       0.03   (Wallclock seconds):       0.04\n",
      "\n",
      "\u001b[33mRemoving temporary output temp/0/model_7.lp.\u001b[0m\n",
      "\u001b[33mSelect jobs to execute...\u001b[0m\n",
      "\u001b[33mRemoving temporary output temp/0/model_7.sol.gz.\u001b[0m\n",
      "\u001b[33mSelect jobs to execute...\u001b[0m\n",
      "\u001b[33mRemoving temporary output temp/0/model_7.txt.\u001b[0m\n",
      "\u001b[33mSelect jobs to execute...\u001b[0m\n",
      "\u001b[33mRemoving temporary output temp/0/model_7.sol.\u001b[0m\n",
      "\u001b[33mSelect jobs to execute...\u001b[0m\n",
      "\u001b[33mSelect jobs to execute...\u001b[0m\n",
      "\u001b[33mSelect jobs to execute...\u001b[0m\n",
      "\u001b[33mSelect jobs to execute...\u001b[0m\n",
      "\u001b[33mSelect jobs to execute...\u001b[0m\n",
      "\u001b[33mRemoving temporary output temp/0/model_13_modex.txt.\u001b[0m\n",
      "\u001b[33mSelect jobs to execute...\u001b[0m\n",
      "\u001b[33mRemoving temporary output temp/0/model_13.lp.gz.\u001b[0m\n",
      "\u001b[33mSelect jobs to execute...\u001b[0m\n",
      "Welcome to the CBC MILP Solver \n",
      "Version: 2.10.5 \n",
      "Build Date: Dec  8 2020 \n",
      "\n",
      "command line - cbc temp/0/model_13.lp solve -sec 1500 -solu temp/0/model_13.sol.gz (default strategy 1)\n",
      "Presolve 50 (-2704) rows, 51 (-1326) columns and 1324 (-19063) elements\n",
      "0  Obj 455877.82 Primal inf 8770.9284 (50)\n",
      "50  Obj 901736.3\n",
      "Optimal - objective value 901736.3\n",
      "After Postsolve, objective 901736.3, infeasibilities - dual 0 (0), primal 0 (0)\n",
      "Optimal objective 901736.3015 - 50 iterations time 0.012, Presolve 0.01\n",
      "seconds was changed from 1e+100 to 1500\n",
      "Total time (CPU seconds):       0.02   (Wallclock seconds):       0.03\n",
      "\n",
      "\u001b[33mRemoving temporary output temp/0/model_13.lp.\u001b[0m\n",
      "\u001b[33mSelect jobs to execute...\u001b[0m\n",
      "\u001b[33mRemoving temporary output temp/0/model_13.sol.gz.\u001b[0m\n",
      "\u001b[33mSelect jobs to execute...\u001b[0m\n",
      "\u001b[33mRemoving temporary output temp/0/model_13.txt.\u001b[0m\n",
      "\u001b[33mSelect jobs to execute...\u001b[0m\n",
      "\u001b[33mRemoving temporary output temp/0/model_13.sol.\u001b[0m\n",
      "\u001b[33mSelect jobs to execute...\u001b[0m\n",
      "\u001b[33mSelect jobs to execute...\u001b[0m\n",
      "\u001b[33mSelect jobs to execute...\u001b[0m\n",
      "\u001b[33mSelect jobs to execute...\u001b[0m\n",
      "\u001b[33mRemoving temporary output temp/0/model_20_modex.txt.\u001b[0m\n",
      "\u001b[33mSelect jobs to execute...\u001b[0m\n",
      "\u001b[33mRemoving temporary output temp/0/model_20.lp.gz.\u001b[0m\n",
      "\u001b[33mSelect jobs to execute...\u001b[0m\n",
      "Welcome to the CBC MILP Solver \n",
      "Version: 2.10.5 \n",
      "Build Date: Dec  8 2020 \n",
      "\n",
      "command line - cbc temp/0/model_20.lp solve -sec 1500 -solu temp/0/model_20.sol.gz (default strategy 1)\n",
      "Presolve 50 (-2704) rows, 51 (-1326) columns and 1325 (-19075) elements\n",
      "0  Obj 384087.49 Primal inf 6792.2326 (50)\n",
      "50  Obj 758122.87\n",
      "Optimal - objective value 758122.87\n",
      "After Postsolve, objective 758122.87, infeasibilities - dual 0 (0), primal 0 (0)\n",
      "Optimal objective 758122.8688 - 50 iterations time 0.012, Presolve 0.01\n",
      "seconds was changed from 1e+100 to 1500\n",
      "Total time (CPU seconds):       0.02   (Wallclock seconds):       0.03\n",
      "\n",
      "\u001b[33mRemoving temporary output temp/0/model_20.lp.\u001b[0m\n",
      "\u001b[33mSelect jobs to execute...\u001b[0m\n",
      "\u001b[33mRemoving temporary output temp/0/model_20.sol.gz.\u001b[0m\n",
      "\u001b[33mSelect jobs to execute...\u001b[0m\n",
      "\u001b[33mRemoving temporary output temp/0/model_20.txt.\u001b[0m\n",
      "\u001b[33mSelect jobs to execute...\u001b[0m\n",
      "\u001b[33mRemoving temporary output temp/0/model_20.sol.\u001b[0m\n",
      "\u001b[33mSelect jobs to execute...\u001b[0m\n",
      "\u001b[33mSelect jobs to execute...\u001b[0m\n",
      "\u001b[33mSelect jobs to execute...\u001b[0m\n",
      "\u001b[33mSelect jobs to execute...\u001b[0m\n",
      "\u001b[33mRemoving temporary output temp/0/model_3_modex.txt.\u001b[0m\n",
      "\u001b[33mSelect jobs to execute...\u001b[0m\n",
      "\u001b[33mRemoving temporary output temp/0/model_3.lp.gz.\u001b[0m\n",
      "\u001b[33mSelect jobs to execute...\u001b[0m\n",
      "Welcome to the CBC MILP Solver \n",
      "Version: 2.10.5 \n",
      "Build Date: Dec  8 2020 \n",
      "\n",
      "command line - cbc temp/0/model_3.lp solve -sec 1500 -solu temp/0/model_3.sol.gz (default strategy 1)\n",
      "Presolve 50 (-2704) rows, 51 (-1326) columns and 1325 (-19075) elements\n",
      "0  Obj 357098.13 Primal inf 5821.9178 (50)\n",
      "50  Obj 699330.86\n",
      "Optimal - objective value 699330.86\n",
      "After Postsolve, objective 699330.86, infeasibilities - dual 0 (0), primal 0 (0)\n",
      "Optimal objective 699330.8591 - 50 iterations time 0.012, Presolve 0.01\n",
      "seconds was changed from 1e+100 to 1500\n",
      "Total time (CPU seconds):       0.03   (Wallclock seconds):       0.03\n",
      "\n",
      "\u001b[33mRemoving temporary output temp/0/model_3.lp.\u001b[0m\n",
      "\u001b[33mSelect jobs to execute...\u001b[0m\n",
      "\u001b[33mRemoving temporary output temp/0/model_3.sol.gz.\u001b[0m\n",
      "\u001b[33mSelect jobs to execute...\u001b[0m\n",
      "\u001b[33mRemoving temporary output temp/0/model_3.txt.\u001b[0m\n",
      "\u001b[33mSelect jobs to execute...\u001b[0m\n",
      "\u001b[33mRemoving temporary output temp/0/model_3.sol.\u001b[0m\n",
      "\u001b[33mSelect jobs to execute...\u001b[0m\n",
      "\u001b[33mSelect jobs to execute...\u001b[0m\n",
      "\u001b[33mSelect jobs to execute...\u001b[0m\n",
      "\u001b[33mRemoving temporary output temp/0/model_27_modex.txt.\u001b[0m\n",
      "\u001b[33mSelect jobs to execute...\u001b[0m\n",
      "\u001b[33mRemoving temporary output temp/0/model_27.lp.gz.\u001b[0m\n",
      "\u001b[33mSelect jobs to execute...\u001b[0m\n",
      "Welcome to the CBC MILP Solver \n",
      "Version: 2.10.5 \n",
      "Build Date: Dec  8 2020 \n",
      "\n",
      "command line - cbc temp/0/model_27.lp solve -sec 1500 -solu temp/0/model_27.sol.gz (default strategy 1)\n",
      "Presolve 50 (-2704) rows, 51 (-1326) columns and 1324 (-19063) elements\n",
      "0  Obj 348608.51 Primal inf 5847.2856 (50)\n",
      "50  Obj 715973.28\n",
      "Optimal - objective value 715973.28\n",
      "After Postsolve, objective 715973.28, infeasibilities - dual 0 (0), primal 0 (0)\n",
      "Optimal objective 715973.2805 - 50 iterations time 0.012, Presolve 0.01\n",
      "seconds was changed from 1e+100 to 1500\n",
      "Total time (CPU seconds):       0.02   (Wallclock seconds):       0.03\n",
      "\n",
      "\u001b[33mRemoving temporary output temp/0/model_27.lp.\u001b[0m\n",
      "\u001b[33mSelect jobs to execute...\u001b[0m\n",
      "\u001b[33mRemoving temporary output temp/0/model_27.sol.gz.\u001b[0m\n",
      "\u001b[33mSelect jobs to execute...\u001b[0m\n",
      "\u001b[33mRemoving temporary output temp/0/model_27.txt.\u001b[0m\n",
      "\u001b[33mSelect jobs to execute...\u001b[0m\n",
      "\u001b[33mRemoving temporary output temp/0/model_27.sol.\u001b[0m\n",
      "\u001b[33mSelect jobs to execute...\u001b[0m\n",
      "\u001b[33mSelect jobs to execute...\u001b[0m\n",
      "\u001b[33mSelect jobs to execute...\u001b[0m\n",
      "\u001b[33mRemoving temporary output temp/0/model_14_modex.txt.\u001b[0m\n",
      "\u001b[33mSelect jobs to execute...\u001b[0m\n",
      "\u001b[33mRemoving temporary output temp/0/model_14.lp.gz.\u001b[0m\n",
      "\u001b[33mSelect jobs to execute...\u001b[0m\n",
      "Welcome to the CBC MILP Solver \n",
      "Version: 2.10.5 \n",
      "Build Date: Dec  8 2020 \n",
      "\n",
      "command line - cbc temp/0/model_14.lp solve -sec 1500 -solu temp/0/model_14.sol.gz (default strategy 1)\n",
      "Presolve 50 (-2704) rows, 51 (-1326) columns and 1324 (-19063) elements\n",
      "0  Obj 482077.29 Primal inf 8770.9284 (50)\n",
      "50  Obj 927935.77\n",
      "Optimal - objective value 927935.77\n",
      "After Postsolve, objective 927935.77, infeasibilities - dual 0 (0), primal 0 (0)\n",
      "Optimal objective 927935.7701 - 50 iterations time 0.012, Presolve 0.01\n",
      "seconds was changed from 1e+100 to 1500\n",
      "Total time (CPU seconds):       0.02   (Wallclock seconds):       0.03\n",
      "\n",
      "\u001b[33mRemoving temporary output temp/0/model_14.lp.\u001b[0m\n",
      "\u001b[33mSelect jobs to execute...\u001b[0m\n",
      "\u001b[33mRemoving temporary output temp/0/model_14.sol.gz.\u001b[0m\n",
      "\u001b[33mSelect jobs to execute...\u001b[0m\n",
      "\u001b[33mRemoving temporary output temp/0/model_14.txt.\u001b[0m\n",
      "\u001b[33mSelect jobs to execute...\u001b[0m\n",
      "\u001b[33mRemoving temporary output temp/0/model_14.sol.\u001b[0m\n",
      "\u001b[33mSelect jobs to execute...\u001b[0m\n",
      "\u001b[33mSelect jobs to execute...\u001b[0m\n",
      "\u001b[33mSelect jobs to execute...\u001b[0m\n",
      "\u001b[33mComplete log: .snakemake/log/2023-11-06T152528.769901.snakemake.log\u001b[0m\n",
      "Workflow finished successfully!\n"
     ]
    }
   ],
   "source": [
    "!snakemake --cores 1 --configfile examples/3/config.yaml --quiet"
   ]
  },
  {
   "cell_type": "markdown",
   "metadata": {
    "slideshow": {
     "slide_type": "subslide"
    }
   },
   "source": [
    "### View Results"
   ]
  },
  {
   "cell_type": "code",
   "execution_count": 58,
   "metadata": {
    "slideshow": {
     "slide_type": "fragment"
    }
   },
   "outputs": [
    {
     "data": {
      "text/html": [
       "<div>\n",
       "<style scoped>\n",
       "    .dataframe tbody tr th:only-of-type {\n",
       "        vertical-align: middle;\n",
       "    }\n",
       "\n",
       "    .dataframe tbody tr th {\n",
       "        vertical-align: top;\n",
       "    }\n",
       "\n",
       "    .dataframe thead th {\n",
       "        text-align: right;\n",
       "    }\n",
       "</style>\n",
       "<table border=\"1\" class=\"dataframe\">\n",
       "  <thead>\n",
       "    <tr style=\"text-align: right;\">\n",
       "      <th></th>\n",
       "      <th>mu</th>\n",
       "      <th>mu_star</th>\n",
       "      <th>sigma</th>\n",
       "      <th>mu_star_conf</th>\n",
       "    </tr>\n",
       "  </thead>\n",
       "  <tbody>\n",
       "    <tr>\n",
       "      <th>capital</th>\n",
       "      <td>48674.957013</td>\n",
       "      <td>104356.718938</td>\n",
       "      <td>NaN</td>\n",
       "      <td>17450.397399</td>\n",
       "    </tr>\n",
       "    <tr>\n",
       "      <th>variable</th>\n",
       "      <td>36141.176732</td>\n",
       "      <td>36141.176732</td>\n",
       "      <td>6787.004027</td>\n",
       "      <td>4903.006163</td>\n",
       "    </tr>\n",
       "    <tr>\n",
       "      <th>demand</th>\n",
       "      <td>334097.304346</td>\n",
       "      <td>334097.304346</td>\n",
       "      <td>26248.954035</td>\n",
       "      <td>20083.412295</td>\n",
       "    </tr>\n",
       "    <tr>\n",
       "      <th>iar</th>\n",
       "      <td>30863.044465</td>\n",
       "      <td>30863.044465</td>\n",
       "      <td>6001.587705</td>\n",
       "      <td>5091.015315</td>\n",
       "    </tr>\n",
       "    <tr>\n",
       "      <th>oplife</th>\n",
       "      <td>-34207.682296</td>\n",
       "      <td>34207.682296</td>\n",
       "      <td>16237.170938</td>\n",
       "      <td>10843.203177</td>\n",
       "    </tr>\n",
       "  </tbody>\n",
       "</table>\n",
       "</div>"
      ],
      "text/plain": [
       "                     mu        mu_star         sigma  mu_star_conf\n",
       "capital    48674.957013  104356.718938           NaN  17450.397399\n",
       "variable   36141.176732   36141.176732   6787.004027   4903.006163\n",
       "demand    334097.304346  334097.304346  26248.954035  20083.412295\n",
       "iar        30863.044465   30863.044465   6001.587705   5091.015315\n",
       "oplife    -34207.682296   34207.682296  16237.170938  10843.203177"
      ]
     },
     "execution_count": 58,
     "metadata": {},
     "output_type": "execute_result"
    }
   ],
   "source": [
    "pd.read_csv(\"./results/0_summary/SA_objective.csv\", index_col=0)"
   ]
  },
  {
   "cell_type": "code",
   "execution_count": 59,
   "metadata": {
    "slideshow": {
     "slide_type": "subslide"
    }
   },
   "outputs": [
    {
     "data": {
      "image/png": "[encoded data removed]",
      "text/plain": [
       "<IPython.core.display.Image object>"
      ]
     },
     "execution_count": 59,
     "metadata": {},
     "output_type": "execute_result"
    }
   ],
   "source": [
    "display.Image(\"./results/0_summary/SA_objective.png\")"
   ]
  },
  {
   "cell_type": "markdown",
   "metadata": {
    "slideshow": {
     "slide_type": "slide"
    }
   },
   "source": [
    "# Summary "
   ]
  },
  {
   "cell_type": "markdown",
   "metadata": {
    "slideshow": {
     "slide_type": "subslide"
    }
   },
   "source": [
    "In this tutorial we have explored how global sensitivity analysis can be applied to very simple energy system optimization model. We applied the Method of Morris to identify influential parameters and parameters that have non-linear and/or interaction with other parameters. In comparison to local sensitivity analysis, global sensitivity analysis allows us explore a wide array of the solution space and identify the important factors. \n",
    "\n",
    "During this tutorial, we looked at the sensitivity of one out, total discounted system cost, but we can perform sensitivity analysis for any model output variable of interest. For example, installed capacity, emissions or production. \n",
    "\n",
    "We used the Method of Morris to conduct the sensitivity analysis as it allows us to extract sufficient preliminary information with minimal model runs. This is beneficial as energy system optimization models can often have multi-hour run times. Other variance based global sensitivity methods, including those provided by the Python library SALib, can provide more information into the behaviour of the model, with the caveat that this often requires more model runs.\n",
    "\n",
    "For more detail on the methods presented in this notebook, plese see the following publication: \n",
    "\n",
    "> Usher W, Barnes T, Moksnes N and Niet T. Global sensitivity analysis to enhance the transparency and rigour of energy system optimisation modelling [version 1; peer review: 1 approved, 2 approved with reservations]. Open Res Europe 2023, 3:30 (https://doi.org/10.12688/openreseurope.15461.1)"
   ]
  }
 ],
 "metadata": {
  "celltoolbar": "Slideshow",
  "kernelspec": {
   "display_name": "Python 3 (ipykernel)",
   "language": "python",
   "name": "python3"
  },
  "language_info": {
   "codemirror_mode": {
    "name": "ipython",
    "version": 3
   },
   "file_extension": ".py",
   "mimetype": "text/x-python",
   "name": "python",
   "nbconvert_exporter": "python",
   "pygments_lexer": "ipython3",
   "version": "3.9.17"
  },
  "vscode": {
   "interpreter": {
    "hash": "f0f8c7ae30e7392bb8cd183c79221a78b2c2aa0222e944f52c7e91613af78833"
   }
  }
 },
 "nbformat": 4,
 "nbformat_minor": 2
}
